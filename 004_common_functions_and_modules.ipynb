{
 "cells": [
  {
   "cell_type": "markdown",
   "metadata": {},
   "source": [
    "# Common Functions and Modules\n",
    "\n",
    "* Common Functions\n",
    "    * print\n",
    "    * len\n",
    "    * abs\n",
    "    * type\n",
    "    * isinstance\n",
    "    * issubclass\n",
    "    * id\n",
    "    * range\n",
    "    * str\n",
    "    * int\n",
    "    * float\n",
    "    * bool\n",
    "    * list\n",
    "    * tuple\n",
    "    * dict\n",
    "    * input\n",
    "    * max\n",
    "    * min\n",
    "    * sum\n",
    "    * zip\n",
    "    * map\n",
    "    * filter\n",
    "    * sorted\n",
    "    * enumerate\n",
    "    * reversed\n",
    "    * all\n",
    "    * any\n",
    "\n",
    "* Common Modules\n",
    "    * random\n",
    "    * string\n",
    "    * datetime\n",
    "    * pytz\n",
    "    * dateutil\n",
    "    * json\n",
    "    * re\n",
    "    * functools\n",
    "    * math\n",
    "    * copy\n",
    "    * os\n",
    "    * requests"
   ]
  },
  {
   "cell_type": "markdown",
   "metadata": {},
   "source": [
    "## Common Functions"
   ]
  },
  {
   "cell_type": "markdown",
   "metadata": {},
   "source": [
    "### print"
   ]
  },
  {
   "cell_type": "code",
   "execution_count": 1,
   "metadata": {},
   "outputs": [
    {
     "name": "stdout",
     "output_type": "stream",
     "text": [
      "Print this line\n"
     ]
    }
   ],
   "source": [
    "print('Print this line')"
   ]
  },
  {
   "cell_type": "markdown",
   "metadata": {},
   "source": [
    "### len"
   ]
  },
  {
   "cell_type": "code",
   "execution_count": 2,
   "metadata": {},
   "outputs": [
    {
     "data": {
      "text/plain": [
       "5"
      ]
     },
     "execution_count": 2,
     "metadata": {},
     "output_type": "execute_result"
    }
   ],
   "source": [
    "len([1, 2, 3, 4, 5])"
   ]
  },
  {
   "cell_type": "markdown",
   "metadata": {},
   "source": [
    "### abs"
   ]
  },
  {
   "cell_type": "code",
   "execution_count": 3,
   "metadata": {},
   "outputs": [
    {
     "data": {
      "text/plain": [
       "5"
      ]
     },
     "execution_count": 3,
     "metadata": {},
     "output_type": "execute_result"
    }
   ],
   "source": [
    "abs(-5)"
   ]
  },
  {
   "cell_type": "markdown",
   "metadata": {},
   "source": [
    "### type"
   ]
  },
  {
   "cell_type": "code",
   "execution_count": 4,
   "metadata": {},
   "outputs": [
    {
     "data": {
      "text/plain": [
       "float"
      ]
     },
     "execution_count": 4,
     "metadata": {},
     "output_type": "execute_result"
    }
   ],
   "source": [
    "type(2.0)"
   ]
  },
  {
   "cell_type": "markdown",
   "metadata": {},
   "source": [
    "### isinstance"
   ]
  },
  {
   "cell_type": "code",
   "execution_count": 5,
   "metadata": {},
   "outputs": [
    {
     "data": {
      "text/plain": [
       "True"
      ]
     },
     "execution_count": 5,
     "metadata": {},
     "output_type": "execute_result"
    }
   ],
   "source": [
    "isinstance(\"Hello\", str)"
   ]
  },
  {
   "cell_type": "code",
   "execution_count": 6,
   "metadata": {},
   "outputs": [
    {
     "data": {
      "text/plain": [
       "True"
      ]
     },
     "execution_count": 6,
     "metadata": {},
     "output_type": "execute_result"
    }
   ],
   "source": [
    "# is instance of any of the type in the list\n",
    "isinstance(\"Hello\", (float, int, str, list, dict, tuple))"
   ]
  },
  {
   "cell_type": "markdown",
   "metadata": {},
   "source": [
    "### issubclass"
   ]
  },
  {
   "cell_type": "code",
   "execution_count": 7,
   "metadata": {},
   "outputs": [
    {
     "data": {
      "text/plain": [
       "True"
      ]
     },
     "execution_count": 7,
     "metadata": {},
     "output_type": "execute_result"
    }
   ],
   "source": [
    "class Parent:\n",
    "  p_attr = 1\n",
    "\n",
    "class Child(Parent):\n",
    "  c_attr = 'sample'\n",
    "\n",
    "issubclass(Child, Parent)"
   ]
  },
  {
   "cell_type": "markdown",
   "metadata": {},
   "source": [
    "### id"
   ]
  },
  {
   "cell_type": "code",
   "execution_count": 8,
   "metadata": {},
   "outputs": [
    {
     "name": "stdout",
     "output_type": "stream",
     "text": [
      "x: 4350909800\n",
      "y: 4350909800\n",
      "z: 4350909832\n"
     ]
    }
   ],
   "source": [
    "x, y, z = 1, 1, 2\n",
    "print(f\"x: {id(x)}\")\n",
    "print(f\"y: {id(y)}\")\n",
    "print(f\"z: {id(z)}\")"
   ]
  },
  {
   "cell_type": "markdown",
   "metadata": {},
   "source": [
    "### range"
   ]
  },
  {
   "cell_type": "code",
   "execution_count": 9,
   "metadata": {},
   "outputs": [
    {
     "name": "stdout",
     "output_type": "stream",
     "text": [
      "0 2 4 6 8 10 12 14 16 18 "
     ]
    }
   ],
   "source": [
    "for i in range(0, 20, 2):\n",
    "    print(i, end=\" \")"
   ]
  },
  {
   "cell_type": "markdown",
   "metadata": {},
   "source": [
    "### str"
   ]
  },
  {
   "cell_type": "code",
   "execution_count": 10,
   "metadata": {},
   "outputs": [
    {
     "data": {
      "text/plain": [
       "'3.14'"
      ]
     },
     "execution_count": 10,
     "metadata": {},
     "output_type": "execute_result"
    }
   ],
   "source": [
    "str(3.14)"
   ]
  },
  {
   "cell_type": "markdown",
   "metadata": {},
   "source": [
    "### int"
   ]
  },
  {
   "cell_type": "code",
   "execution_count": 11,
   "metadata": {},
   "outputs": [
    {
     "data": {
      "text/plain": [
       "123"
      ]
     },
     "execution_count": 11,
     "metadata": {},
     "output_type": "execute_result"
    }
   ],
   "source": [
    "int('123')"
   ]
  },
  {
   "cell_type": "markdown",
   "metadata": {},
   "source": [
    "### float"
   ]
  },
  {
   "cell_type": "code",
   "execution_count": 12,
   "metadata": {},
   "outputs": [
    {
     "data": {
      "text/plain": [
       "3.14"
      ]
     },
     "execution_count": 12,
     "metadata": {},
     "output_type": "execute_result"
    }
   ],
   "source": [
    "float('3.14')"
   ]
  },
  {
   "cell_type": "markdown",
   "metadata": {},
   "source": [
    "### bool"
   ]
  },
  {
   "cell_type": "code",
   "execution_count": 13,
   "metadata": {},
   "outputs": [
    {
     "data": {
      "text/plain": [
       "False"
      ]
     },
     "execution_count": 13,
     "metadata": {},
     "output_type": "execute_result"
    }
   ],
   "source": [
    "bool(0)"
   ]
  },
  {
   "cell_type": "markdown",
   "metadata": {},
   "source": [
    "### list"
   ]
  },
  {
   "cell_type": "code",
   "execution_count": 14,
   "metadata": {},
   "outputs": [
    {
     "data": {
      "text/plain": [
       "[1, 2, 3]"
      ]
     },
     "execution_count": 14,
     "metadata": {},
     "output_type": "execute_result"
    }
   ],
   "source": [
    "list({1, 2, 3})"
   ]
  },
  {
   "cell_type": "markdown",
   "metadata": {},
   "source": [
    "### tuple"
   ]
  },
  {
   "cell_type": "code",
   "execution_count": 15,
   "metadata": {},
   "outputs": [
    {
     "data": {
      "text/plain": [
       "(1, 2, 3)"
      ]
     },
     "execution_count": 15,
     "metadata": {},
     "output_type": "execute_result"
    }
   ],
   "source": [
    "tuple([1, 2, 3])"
   ]
  },
  {
   "cell_type": "markdown",
   "metadata": {},
   "source": [
    "### dict"
   ]
  },
  {
   "cell_type": "code",
   "execution_count": 16,
   "metadata": {},
   "outputs": [
    {
     "data": {
      "text/plain": [
       "{'a': 1, 'b': 2, 'c': 3}"
      ]
     },
     "execution_count": 16,
     "metadata": {},
     "output_type": "execute_result"
    }
   ],
   "source": [
    "dict([['a', 1], ['b', 2], ['c', 3]])"
   ]
  },
  {
   "cell_type": "markdown",
   "metadata": {},
   "source": [
    "### input"
   ]
  },
  {
   "cell_type": "code",
   "execution_count": 17,
   "metadata": {},
   "outputs": [
    {
     "name": "stdin",
     "output_type": "stream",
     "text": [
      "Where do you live?:  pune\n"
     ]
    },
    {
     "name": "stdout",
     "output_type": "stream",
     "text": [
      "Let's go to, Pune!\n"
     ]
    }
   ],
   "source": [
    "city = input(\"Where do you live?: \")\n",
    "print(f\"Let's go to, {city.capitalize()}!\")"
   ]
  },
  {
   "cell_type": "markdown",
   "metadata": {},
   "source": [
    "### max"
   ]
  },
  {
   "cell_type": "code",
   "execution_count": 18,
   "metadata": {},
   "outputs": [
    {
     "data": {
      "text/plain": [
       "3"
      ]
     },
     "execution_count": 18,
     "metadata": {},
     "output_type": "execute_result"
    }
   ],
   "source": [
    "max(1,2,3)"
   ]
  },
  {
   "cell_type": "code",
   "execution_count": 19,
   "metadata": {},
   "outputs": [
    {
     "data": {
      "text/plain": [
       "3"
      ]
     },
     "execution_count": 19,
     "metadata": {},
     "output_type": "execute_result"
    }
   ],
   "source": [
    "max([1,2,3])"
   ]
  },
  {
   "cell_type": "code",
   "execution_count": 20,
   "metadata": {},
   "outputs": [
    {
     "data": {
      "text/plain": [
       "3"
      ]
     },
     "execution_count": 20,
     "metadata": {},
     "output_type": "execute_result"
    }
   ],
   "source": [
    "max((1,2,3))"
   ]
  },
  {
   "cell_type": "code",
   "execution_count": 21,
   "metadata": {},
   "outputs": [
    {
     "data": {
      "text/plain": [
       "3"
      ]
     },
     "execution_count": 21,
     "metadata": {},
     "output_type": "execute_result"
    }
   ],
   "source": [
    "max({1,2,3})"
   ]
  },
  {
   "cell_type": "markdown",
   "metadata": {},
   "source": [
    "### min"
   ]
  },
  {
   "cell_type": "code",
   "execution_count": 22,
   "metadata": {},
   "outputs": [
    {
     "data": {
      "text/plain": [
       "1"
      ]
     },
     "execution_count": 22,
     "metadata": {},
     "output_type": "execute_result"
    }
   ],
   "source": [
    "min(1,2,3)"
   ]
  },
  {
   "cell_type": "markdown",
   "metadata": {},
   "source": [
    "### sum"
   ]
  },
  {
   "cell_type": "code",
   "execution_count": 23,
   "metadata": {},
   "outputs": [
    {
     "data": {
      "text/plain": [
       "6"
      ]
     },
     "execution_count": 23,
     "metadata": {},
     "output_type": "execute_result"
    }
   ],
   "source": [
    "sum([1,2,3])"
   ]
  },
  {
   "cell_type": "code",
   "execution_count": 24,
   "metadata": {},
   "outputs": [
    {
     "data": {
      "text/plain": [
       "6"
      ]
     },
     "execution_count": 24,
     "metadata": {},
     "output_type": "execute_result"
    }
   ],
   "source": [
    "sum((1,2,3))"
   ]
  },
  {
   "cell_type": "code",
   "execution_count": 25,
   "metadata": {},
   "outputs": [
    {
     "data": {
      "text/plain": [
       "6"
      ]
     },
     "execution_count": 25,
     "metadata": {},
     "output_type": "execute_result"
    }
   ],
   "source": [
    "sum({1,2,3})"
   ]
  },
  {
   "cell_type": "markdown",
   "metadata": {},
   "source": [
    "### zip"
   ]
  },
  {
   "cell_type": "code",
   "execution_count": 26,
   "metadata": {},
   "outputs": [
    {
     "name": "stdout",
     "output_type": "stream",
     "text": [
      "Capital of Maharashtra  is Mumbai      \n",
      "Capital of Karnataka    is Bangalore   \n",
      "Capital of Tamilnadu    is Chennai     \n",
      "Capital of Gujrat       is Gandhinagar \n"
     ]
    }
   ],
   "source": [
    "states = ['Maharashtra', 'Karnataka', 'Tamilnadu', 'Gujrat']\n",
    "capitals = ['Mumbai', 'Bangalore', 'Chennai', 'Gandhinagar']\n",
    "\n",
    "for state, capital in zip(states, capitals):\n",
    "    print(f\"Capital of {state:12} is {capital:12}\")"
   ]
  },
  {
   "cell_type": "code",
   "execution_count": 27,
   "metadata": {},
   "outputs": [
    {
     "data": {
      "text/plain": [
       "[('Maharashtra', 'Mumbai'),\n",
       " ('Karnataka', 'Bangalore'),\n",
       " ('Tamilnadu', 'Chennai'),\n",
       " ('Gujrat', 'Gandhinagar')]"
      ]
     },
     "execution_count": 27,
     "metadata": {},
     "output_type": "execute_result"
    }
   ],
   "source": [
    "list(zip(states, capitals))"
   ]
  },
  {
   "cell_type": "code",
   "execution_count": 28,
   "metadata": {},
   "outputs": [
    {
     "data": {
      "text/plain": [
       "{'Maharashtra': 'Mumbai',\n",
       " 'Karnataka': 'Bangalore',\n",
       " 'Tamilnadu': 'Chennai',\n",
       " 'Gujrat': 'Gandhinagar'}"
      ]
     },
     "execution_count": 28,
     "metadata": {},
     "output_type": "execute_result"
    }
   ],
   "source": [
    "dict(zip(states, capitals))"
   ]
  },
  {
   "cell_type": "markdown",
   "metadata": {},
   "source": [
    "### map"
   ]
  },
  {
   "cell_type": "code",
   "execution_count": 29,
   "metadata": {},
   "outputs": [
    {
     "data": {
      "text/plain": [
       "<map at 0x109124070>"
      ]
     },
     "execution_count": 29,
     "metadata": {},
     "output_type": "execute_result"
    }
   ],
   "source": [
    "def square(x): return x**2\n",
    "\n",
    "numbers = [1, 2, 3, 4, 5]\n",
    "squares = map(square, numbers)\n",
    "\n",
    "squares"
   ]
  },
  {
   "cell_type": "code",
   "execution_count": 30,
   "metadata": {},
   "outputs": [
    {
     "name": "stdout",
     "output_type": "stream",
     "text": [
      "Original numbers: [1, 2, 3, 4, 5]\n",
      "Squared numbers: [1, 4, 9, 16, 25]\n"
     ]
    }
   ],
   "source": [
    "print(\"Original numbers:\", numbers)\n",
    "print(\"Squared numbers:\", list(squares))"
   ]
  },
  {
   "cell_type": "code",
   "execution_count": 31,
   "metadata": {},
   "outputs": [
    {
     "data": {
      "text/plain": [
       "[1, 4, 9, 16, 25]"
      ]
     },
     "execution_count": 31,
     "metadata": {},
     "output_type": "execute_result"
    }
   ],
   "source": [
    "list(map(lambda x: x*x, numbers))"
   ]
  },
  {
   "cell_type": "markdown",
   "metadata": {},
   "source": [
    "### filter"
   ]
  },
  {
   "cell_type": "code",
   "execution_count": 32,
   "metadata": {},
   "outputs": [
    {
     "data": {
      "text/plain": [
       "[2, 4]"
      ]
     },
     "execution_count": 32,
     "metadata": {},
     "output_type": "execute_result"
    }
   ],
   "source": [
    "list(filter(lambda x: x%2==0, numbers))"
   ]
  },
  {
   "cell_type": "code",
   "execution_count": 33,
   "metadata": {},
   "outputs": [
    {
     "data": {
      "text/plain": [
       "[1, 'str', 3.14]"
      ]
     },
     "execution_count": 33,
     "metadata": {},
     "output_type": "execute_result"
    }
   ],
   "source": [
    "list(filter(None, [1, 'str', None, 3.14, None]))"
   ]
  },
  {
   "cell_type": "markdown",
   "metadata": {},
   "source": [
    "### sorted"
   ]
  },
  {
   "cell_type": "code",
   "execution_count": 34,
   "metadata": {},
   "outputs": [
    {
     "name": "stdout",
     "output_type": "stream",
     "text": [
      "xs: [3, 1, 4, 1, 5, 9, 2, 6, 5, 3, 5]\n",
      "ys: [1, 1, 2, 3, 3, 4, 5, 5, 5, 6, 9]\n"
     ]
    }
   ],
   "source": [
    "xs = [3, 1, 4, 1, 5, 9, 2, 6, 5, 3, 5]\n",
    "ys = sorted(xs)\n",
    "print(f\"xs: {xs}\")\n",
    "print(f\"ys: {ys}\")"
   ]
  },
  {
   "cell_type": "code",
   "execution_count": 35,
   "metadata": {},
   "outputs": [
    {
     "data": {
      "text/plain": [
       "[9, 6, 5, 5, 5, 4, 3, 3, 2, 1, 1]"
      ]
     },
     "execution_count": 35,
     "metadata": {},
     "output_type": "execute_result"
    }
   ],
   "source": [
    "# reverse sorting\n",
    "xs = [3, 1, 4, 1, 5, 9, 2, 6, 5, 3, 5]\n",
    "sorted(xs, reverse=True)"
   ]
  },
  {
   "cell_type": "code",
   "execution_count": 36,
   "metadata": {},
   "outputs": [
    {
     "data": {
      "text/plain": [
       "['Go', 'Python', 'Ruby', 'java']"
      ]
     },
     "execution_count": 36,
     "metadata": {},
     "output_type": "execute_result"
    }
   ],
   "source": [
    "# string sorting\n",
    "xs = [\"Python\", \"Ruby\", \"Go\", \"java\"]\n",
    "sorted(xs)"
   ]
  },
  {
   "cell_type": "markdown",
   "metadata": {},
   "source": [
    "### enumerate"
   ]
  },
  {
   "cell_type": "code",
   "execution_count": 37,
   "metadata": {},
   "outputs": [
    {
     "name": "stdout",
     "output_type": "stream",
     "text": [
      "0: Python\n",
      "1: Ruby\n",
      "2: Go\n",
      "3: Java\n"
     ]
    }
   ],
   "source": [
    "xs = [\"Python\", \"Ruby\", \"Go\", \"Java\"]\n",
    "for i, lang in enumerate(xs):\n",
    "    print(f\"{i}: {lang}\")"
   ]
  },
  {
   "cell_type": "code",
   "execution_count": 38,
   "metadata": {},
   "outputs": [
    {
     "name": "stdout",
     "output_type": "stream",
     "text": [
      "1: Python\n",
      "2: Ruby\n",
      "3: Go\n",
      "4: Java\n"
     ]
    }
   ],
   "source": [
    "xs = [\"Python\", \"Ruby\", \"Go\", \"Java\"]\n",
    "for i, lang in enumerate(xs, start=1):\n",
    "    print(f\"{i}: {lang}\")"
   ]
  },
  {
   "cell_type": "markdown",
   "metadata": {},
   "source": [
    "### reversed"
   ]
  },
  {
   "cell_type": "code",
   "execution_count": 39,
   "metadata": {},
   "outputs": [
    {
     "data": {
      "text/plain": [
       "[5, 7, 2, 4, 1]"
      ]
     },
     "execution_count": 39,
     "metadata": {},
     "output_type": "execute_result"
    }
   ],
   "source": [
    "xs = [1, 4, 2, 7, 5]\n",
    "list(reversed(xs))"
   ]
  },
  {
   "cell_type": "markdown",
   "metadata": {},
   "source": [
    "### all"
   ]
  },
  {
   "cell_type": "code",
   "execution_count": 40,
   "metadata": {},
   "outputs": [
    {
     "data": {
      "text/plain": [
       "False"
      ]
     },
     "execution_count": 40,
     "metadata": {},
     "output_type": "execute_result"
    }
   ],
   "source": [
    "def is_even(num): return num % 2 == 0\n",
    "\n",
    "xs = [1, 2, 3, 4, 5]\n",
    "all([is_even(x) for x in xs])"
   ]
  },
  {
   "cell_type": "code",
   "execution_count": 41,
   "metadata": {},
   "outputs": [
    {
     "data": {
      "text/plain": [
       "True"
      ]
     },
     "execution_count": 41,
     "metadata": {},
     "output_type": "execute_result"
    }
   ],
   "source": [
    "xs = [2, 2, 6, 4, 8]\n",
    "all([is_even(x) for x in xs])"
   ]
  },
  {
   "cell_type": "markdown",
   "metadata": {},
   "source": [
    "### any"
   ]
  },
  {
   "cell_type": "code",
   "execution_count": 42,
   "metadata": {},
   "outputs": [
    {
     "data": {
      "text/plain": [
       "True"
      ]
     },
     "execution_count": 42,
     "metadata": {},
     "output_type": "execute_result"
    }
   ],
   "source": [
    "def is_even(num): return num % 2 == 0\n",
    "\n",
    "xs = [1, 2, 3, 4, 5]\n",
    "any([is_even(x) for x in xs])"
   ]
  },
  {
   "cell_type": "markdown",
   "metadata": {},
   "source": [
    "## Common Modules"
   ]
  },
  {
   "cell_type": "markdown",
   "metadata": {},
   "source": [
    "### random"
   ]
  },
  {
   "cell_type": "code",
   "execution_count": 43,
   "metadata": {},
   "outputs": [
    {
     "data": {
      "text/plain": [
       "779"
      ]
     },
     "execution_count": 43,
     "metadata": {},
     "output_type": "execute_result"
    }
   ],
   "source": [
    "import random\n",
    "random.randint(100, 1000)"
   ]
  },
  {
   "cell_type": "code",
   "execution_count": 44,
   "metadata": {},
   "outputs": [
    {
     "data": {
      "text/plain": [
       "9"
      ]
     },
     "execution_count": 44,
     "metadata": {},
     "output_type": "execute_result"
    }
   ],
   "source": [
    "random.randrange(10)"
   ]
  },
  {
   "cell_type": "code",
   "execution_count": 45,
   "metadata": {},
   "outputs": [
    {
     "data": {
      "text/plain": [
       "16"
      ]
     },
     "execution_count": 45,
     "metadata": {},
     "output_type": "execute_result"
    }
   ],
   "source": [
    "random.randrange(10, 20)"
   ]
  },
  {
   "cell_type": "markdown",
   "metadata": {},
   "source": [
    "### string"
   ]
  },
  {
   "cell_type": "code",
   "execution_count": 46,
   "metadata": {},
   "outputs": [
    {
     "name": "stdout",
     "output_type": "stream",
     "text": [
      "abcdefghijklmnopqrstuvwxyzABCDEFGHIJKLMNOPQRSTUVWXYZ\n",
      "abcdefghijklmnopqrstuvwxyz\n",
      "ABCDEFGHIJKLMNOPQRSTUVWXYZ\n",
      "0123456789\n",
      "0123456789abcdefABCDEF\n",
      " \t\n",
      "\u000b",
      "\f",
      "\n",
      "!\"#$%&'()*+,-./:;<=>?@[\\]^_`{|}~\n"
     ]
    }
   ],
   "source": [
    "import string\n",
    "print(string.ascii_letters)\n",
    "print(string.ascii_lowercase)\n",
    "print(string.ascii_uppercase)\n",
    "print(string.digits)\n",
    "print(string.hexdigits)\n",
    "print(string.whitespace)  # ' \\t\\n\\r\\x0b\\x0c'\n",
    "print(string.punctuation)"
   ]
  },
  {
   "cell_type": "code",
   "execution_count": 47,
   "metadata": {},
   "outputs": [
    {
     "data": {
      "text/plain": [
       "'5orujun2fo'"
      ]
     },
     "execution_count": 47,
     "metadata": {},
     "output_type": "execute_result"
    }
   ],
   "source": [
    "def random_string(stringLength=10):\n",
    "    letters = string.ascii_lowercase + string.digits\n",
    "    return ''.join(random.choice(letters) for i in range(stringLength))\n",
    "\n",
    "random_string()"
   ]
  },
  {
   "cell_type": "markdown",
   "metadata": {},
   "source": [
    "### datetime"
   ]
  },
  {
   "cell_type": "code",
   "execution_count": 48,
   "metadata": {},
   "outputs": [
    {
     "name": "stdout",
     "output_type": "stream",
     "text": [
      "1\n",
      "9999\n",
      "UTC\n"
     ]
    }
   ],
   "source": [
    "import datetime\n",
    "print(datetime.MINYEAR)\n",
    "print(datetime.MAXYEAR)\n",
    "print(datetime.UTC)"
   ]
  },
  {
   "cell_type": "code",
   "execution_count": 49,
   "metadata": {},
   "outputs": [
    {
     "name": "stdout",
     "output_type": "stream",
     "text": [
      "today: 2024-01-14\n",
      "Current year: 2024\n",
      "Current month: 1\n",
      "Current day: 14\n",
      "d: 1947-08-15\n",
      "timedelta: 27911 days, 0:00:00\n"
     ]
    },
    {
     "data": {
      "text/plain": [
       "datetime.date(2024, 1, 14)"
      ]
     },
     "execution_count": 49,
     "metadata": {},
     "output_type": "execute_result"
    }
   ],
   "source": [
    "from datetime import date\n",
    "today = date.today()\n",
    "print(f\"today: {today}\")\n",
    "print(\"Current year:\", today.year)\n",
    "print(\"Current month:\", today.month)\n",
    "print(\"Current day:\", today.day)\n",
    "dt = date(1947, 8, 15)\n",
    "print(f\"d: {dt}\")\n",
    "print(f\"timedelta: {today - dt}\")\n",
    "today"
   ]
  },
  {
   "cell_type": "code",
   "execution_count": 50,
   "metadata": {},
   "outputs": [
    {
     "name": "stdout",
     "output_type": "stream",
     "text": [
      "time: 12:30:00\n"
     ]
    },
    {
     "data": {
      "text/plain": [
       "datetime.time(12, 30)"
      ]
     },
     "execution_count": 50,
     "metadata": {},
     "output_type": "execute_result"
    }
   ],
   "source": [
    "from datetime import time\n",
    "tym = time(12, 30, 0)\n",
    "print(f\"time: {tym}\")\n",
    "tym"
   ]
  },
  {
   "cell_type": "code",
   "execution_count": 51,
   "metadata": {},
   "outputs": [
    {
     "name": "stdout",
     "output_type": "stream",
     "text": [
      "Datetime from timestamp: 2001-02-06 13:00:43\n"
     ]
    },
    {
     "data": {
      "text/plain": [
       "datetime.datetime(2001, 2, 6, 13, 0, 43)"
      ]
     },
     "execution_count": 51,
     "metadata": {},
     "output_type": "execute_result"
    }
   ],
   "source": [
    "from datetime import datetime\n",
    "date_time = datetime.fromtimestamp(981444643)\n",
    "print(\"Datetime from timestamp:\", date_time)\n",
    "date_time"
   ]
  },
  {
   "cell_type": "code",
   "execution_count": 52,
   "metadata": {},
   "outputs": [
    {
     "name": "stdout",
     "output_type": "stream",
     "text": [
      "current_time: 2024-01-14 10:32:21.192849\n",
      "later_time: 2024-01-29 15:42:31.192849\n"
     ]
    }
   ],
   "source": [
    "from datetime import timedelta\n",
    "current_time = datetime.now()\n",
    "print(f\"current_time: {current_time}\")\n",
    "later_time = current_time + timedelta(days=15, hours=5, minutes=10, seconds=10)\n",
    "print(f\"later_time: {later_time}\")"
   ]
  },
  {
   "cell_type": "code",
   "execution_count": 53,
   "metadata": {},
   "outputs": [
    {
     "name": "stdout",
     "output_type": "stream",
     "text": [
      "UTC                  1947-08-15 00:00:00 UTC+0000\n",
      "Asia/Kolkata         1947-08-15 05:30:00 UTC+05:30+0530\n",
      "Europe/Kiev          1947-08-15 02:00:00 UTC+02:00+0200\n",
      "America/New_York     1947-08-14 19:00:00 UTC-05:00-0500\n"
     ]
    }
   ],
   "source": [
    "from datetime import timezone, timedelta\n",
    " \n",
    "format = \"%Y-%m-%d %H:%M:%S %Z%z\"\n",
    " \n",
    "# Current time in UTC\n",
    "now_utc = datetime(1947, 8, 15, tzinfo=timezone.utc) \n",
    "timezones = {'UTC': timedelta(), 'Asia/Kolkata': timedelta(hours=5, minutes=30), 'Europe/Kiev': timedelta(hours=2), 'America/New_York': timedelta(hours=-5)}\n",
    " \n",
    "for zone_name, tzone in timezones.items():\n",
    "    now_tz = now_utc.astimezone(timezone(tzone))\n",
    "    print(f\"{zone_name:20} {now_tz.strftime(format)}\")"
   ]
  },
  {
   "cell_type": "code",
   "execution_count": 23,
   "metadata": {},
   "outputs": [
    {
     "data": {
      "text/plain": [
       "True"
      ]
     },
     "execution_count": 23,
     "metadata": {},
     "output_type": "execute_result"
    }
   ],
   "source": [
    "from datetime import timezone, timedelta, datetime\n",
    " \n",
    "format = \"%Y-%m-%d %H:%M:%S %Z%z\"\n",
    " \n",
    "# Current time in UTC\n",
    "x = datetime(1947, 8, 15, 12, tzinfo=timezone.utc)\n",
    "y = datetime(1947, 8, 15, 17, 29, tzinfo=timezone(timedelta(hours=5, minutes=30)))\n",
    "x > y"
   ]
  },
  {
   "cell_type": "markdown",
   "metadata": {},
   "source": [
    "### pytz"
   ]
  },
  {
   "cell_type": "code",
   "execution_count": 54,
   "metadata": {},
   "outputs": [
    {
     "name": "stdout",
     "output_type": "stream",
     "text": [
      "UTC                  2024-01-14 05:02:21 UTC+0000\n",
      "Asia/Kolkata         2024-01-14 10:32:21 IST+0530\n",
      "Europe/Kiev          2024-01-14 07:02:21 EET+0200\n",
      "America/New_York     2024-01-14 00:02:21 EST-0500\n"
     ]
    }
   ],
   "source": [
    "from datetime import datetime\n",
    "from pytz import timezone\n",
    " \n",
    "format = \"%Y-%m-%d %H:%M:%S %Z%z\"\n",
    " \n",
    "# Current time in UTC\n",
    "now_utc = datetime.now(timezone('UTC')) \n",
    "timezones = ['UTC', 'Asia/Kolkata', 'Europe/Kiev', 'America/New_York']\n",
    " \n",
    "for tzone in timezones:\n",
    "    now_tz = now_utc.astimezone(timezone(tzone))\n",
    "    print(f\"{tzone:20} {now_tz.strftime(format)}\")"
   ]
  },
  {
   "cell_type": "markdown",
   "metadata": {},
   "source": [
    "### dateutil\n",
    "**This is third party package, make sure to install python-dateutil**  \n",
    "`pip install python-dateutil`"
   ]
  },
  {
   "cell_type": "code",
   "execution_count": 55,
   "metadata": {},
   "outputs": [
    {
     "name": "stdout",
     "output_type": "stream",
     "text": [
      "2000-09-20 10:36:28+00:00\n",
      "2000-09-20 10:36:28+05:30\n",
      "2000-09-21 10:36:28\n",
      "2000-09-22 10:36:28\n",
      "2000-09-23 00:00:00\n",
      "2000-09-24 00:00:00\n",
      "2000-09-25 10:36:28\n",
      "2024-09-26 10:36:28\n",
      "2024-09-19 10:36:28\n",
      "2024-01-18 10:36:28\n"
     ]
    }
   ],
   "source": [
    "from dateutil.parser import parse\n",
    "print(parse(\"Thu Sep 20 10:36:28 UTC 2000\"))\n",
    "print(parse(\"Thu Sep 20 10:36:28 IST 2000\"))\n",
    "print(parse(\"21 Sep 2000 10:36:28\"))\n",
    "print(parse(\"22 09 2000 10:36:28\"))\n",
    "print(parse(\"23 09 2000\"))\n",
    "print(parse(\"2000-09-24\"))\n",
    "print(parse(\"2000 Sep 25 10:36:28\"))\n",
    "print(parse(\"26 Sep 10:36:28\"))\n",
    "print(parse(\"Thu Sep 10:36:28\"))\n",
    "print(parse(\"Thu 10:36:28\"))"
   ]
  },
  {
   "cell_type": "code",
   "execution_count": 56,
   "metadata": {},
   "outputs": [
    {
     "name": "stdout",
     "output_type": "stream",
     "text": [
      "2024-01-14 10:32:21.242860+05:30\n",
      "2024-03-14 10:32:21.242860+05:30\n",
      "2024-03-19 10:02:41.342860+05:30\n",
      "2024-03-19 09:00:00.242860+05:30\n"
     ]
    }
   ],
   "source": [
    "from dateutil.relativedelta import relativedelta\n",
    "current_time = datetime.now().astimezone()\n",
    "print(current_time)\n",
    "print(current_time + relativedelta(months=2))\n",
    "print(current_time + relativedelta(months=2, days=5, hours=-1, minutes=30, seconds=20, microseconds=100000))\n",
    "print(current_time + relativedelta(months=2, days=5, hours=-1, minute=0, second=0))"
   ]
  },
  {
   "cell_type": "markdown",
   "metadata": {},
   "source": [
    "### json"
   ]
  },
  {
   "cell_type": "code",
   "execution_count": 57,
   "metadata": {},
   "outputs": [
    {
     "data": {
      "text/plain": [
       "{'string': 'India', 'integer': 12345, 'float': 3.14, 'boolean': True}"
      ]
     },
     "execution_count": 57,
     "metadata": {},
     "output_type": "execute_result"
    }
   ],
   "source": [
    "import json\n",
    "data = {\n",
    "    \"string\": \"India\",\n",
    "    \"integer\": 12345,\n",
    "    \"float\": 3.14,\n",
    "    \"boolean\": True\n",
    "}\n",
    "data"
   ]
  },
  {
   "cell_type": "code",
   "execution_count": 58,
   "metadata": {},
   "outputs": [
    {
     "data": {
      "text/plain": [
       "'{\"string\": \"India\", \"integer\": 12345, \"float\": 3.14, \"boolean\": true}'"
      ]
     },
     "execution_count": 58,
     "metadata": {},
     "output_type": "execute_result"
    }
   ],
   "source": [
    "json_str = json.dumps(data)\n",
    "json_str"
   ]
  },
  {
   "cell_type": "code",
   "execution_count": 59,
   "metadata": {},
   "outputs": [
    {
     "data": {
      "text/plain": [
       "{'string': 'India', 'integer': 12345, 'float': 3.14, 'boolean': True}"
      ]
     },
     "execution_count": 59,
     "metadata": {},
     "output_type": "execute_result"
    }
   ],
   "source": [
    "parsed_data = json.loads(json_str)\n",
    "parsed_data"
   ]
  },
  {
   "cell_type": "code",
   "execution_count": 60,
   "metadata": {},
   "outputs": [
    {
     "data": {
      "text/plain": [
       "True"
      ]
     },
     "execution_count": 60,
     "metadata": {},
     "output_type": "execute_result"
    }
   ],
   "source": [
    "parsed_data == data"
   ]
  },
  {
   "cell_type": "markdown",
   "metadata": {},
   "source": [
    "### re"
   ]
  },
  {
   "cell_type": "code",
   "execution_count": 61,
   "metadata": {},
   "outputs": [],
   "source": [
    "import re\n",
    "def to_lower(match_obj):\n",
    "    if match_obj.group() is not None:\n",
    "        return match_obj.group().lower()\n",
    "    return ''\n",
    "\n",
    "def underscore(word):\n",
    "    word = re.sub(r'[A-Z]', lambda x: f\"_{to_lower(x)}\", word)\n",
    "    return re.sub(\"(^_*|_*$)\", '', word)\n",
    "\n",
    "def pluralize(word):\n",
    "    word = underscore(word)\n",
    "    if re.search('[sxz]$', word) or re.search('[^aeioudgkprt]h$', word):\n",
    "        return re.sub('$', 'es', word)\n",
    "\n",
    "    elif re.search('[^aeiou]y$', word):\n",
    "        return re.sub('y$', 'ies', word)\n",
    "\n",
    "    else:\n",
    "        return word + 's'"
   ]
  },
  {
   "cell_type": "code",
   "execution_count": 62,
   "metadata": {},
   "outputs": [
    {
     "name": "stdout",
     "output_type": "stream",
     "text": [
      "class_name\n",
      "classes\n",
      "functions\n",
      "bodies\n"
     ]
    }
   ],
   "source": [
    "print(underscore(\"ClassName\"))\n",
    "print(pluralize(\"class\"))\n",
    "print(pluralize(\"function\"))\n",
    "print(pluralize(\"body\"))"
   ]
  },
  {
   "cell_type": "markdown",
   "metadata": {},
   "source": [
    "### functools"
   ]
  },
  {
   "cell_type": "code",
   "execution_count": 63,
   "metadata": {},
   "outputs": [
    {
     "name": "stdout",
     "output_type": "stream",
     "text": [
      "sum: 55\n",
      "product: 3628800\n",
      "max: 10\n"
     ]
    }
   ],
   "source": [
    "from functools import reduce\n",
    "sumation = reduce(lambda x, y: x+y, range(1, 11))\n",
    "product = reduce(lambda x, y: x*y, range(1, 11))\n",
    "maximum = reduce(lambda x, y: x if x > y else y, range(1, 11))\n",
    "\n",
    "print(f\"sum: {sumation}\")\n",
    "print(f\"product: {product}\")\n",
    "print(f\"max: {maximum}\")"
   ]
  },
  {
   "cell_type": "markdown",
   "metadata": {},
   "source": [
    "### math"
   ]
  },
  {
   "cell_type": "code",
   "execution_count": 64,
   "metadata": {},
   "outputs": [
    {
     "name": "stdout",
     "output_type": "stream",
     "text": [
      "3.141592653589793\n",
      "inf\n",
      "2.718281828459045\n",
      "nan\n",
      "6.283185307179586\n"
     ]
    }
   ],
   "source": [
    "import math\n",
    "print(math.pi)\n",
    "print(math.inf)\n",
    "print(math.e)\n",
    "print(math.nan)\n",
    "print(math.tau)"
   ]
  },
  {
   "cell_type": "code",
   "execution_count": 65,
   "metadata": {},
   "outputs": [
    {
     "name": "stdout",
     "output_type": "stream",
     "text": [
      "3\n",
      "4\n",
      "25\n",
      "12.0\n",
      "6.907755278982137\n",
      "3.0\n",
      "6.0\n",
      "0.7833269096274834\n",
      "1.0471975511965976\n",
      "32.0\n",
      "90\n",
      "45\n"
     ]
    }
   ],
   "source": [
    "print(math.floor(math.pi))\n",
    "print(math.ceil(math.pi))\n",
    "print(math.gcd(100, 75))\n",
    "print(math.sqrt(144))\n",
    "print(math.log(1000))\n",
    "print(math.log10(1000))\n",
    "print(math.log2(64))\n",
    "print(math.sin(0.9))\n",
    "print(math.radians(60))\n",
    "print(math.pow(2, 5))\n",
    "print(math.perm(10, 2))\n",
    "print(math.comb(10, 2))"
   ]
  },
  {
   "cell_type": "markdown",
   "metadata": {},
   "source": [
    "### copy"
   ]
  },
  {
   "cell_type": "code",
   "execution_count": 66,
   "metadata": {},
   "outputs": [
    {
     "name": "stdout",
     "output_type": "stream",
     "text": [
      "data:      {'string': 'India', 'integer': 12345, 'float': 3.14, 'boolean': True}\n",
      "data:      {'string': 'India', 'integer': 100, 'float': 3.14, 'boolean': True}\n",
      "data_copy: {'string': 'India', 'integer': 100, 'float': 3.14, 'boolean': True}\n"
     ]
    }
   ],
   "source": [
    "# problem statement\n",
    "data = {\n",
    "    \"string\": \"India\",\n",
    "    \"integer\": 12345,\n",
    "    \"float\": 3.14,\n",
    "    \"boolean\": True\n",
    "}\n",
    "print(f\"data:      {data}\")\n",
    "data_copy = data\n",
    "data_copy['integer'] = 100\n",
    "print(f\"data:      {data}\")\n",
    "print(f\"data_copy: {data_copy}\")"
   ]
  },
  {
   "cell_type": "code",
   "execution_count": 67,
   "metadata": {},
   "outputs": [
    {
     "name": "stdout",
     "output_type": "stream",
     "text": [
      "data:      {'string': 'India', 'integer': 12345, 'float': 3.14, 'boolean': True, 'nested': {'fruit': 'Apple', 'vegitable': 'Cabbage'}}\n",
      "data:      {'string': 'India', 'integer': 12345, 'float': 3.14, 'boolean': True, 'nested': {'fruit': 'Orange', 'vegitable': 'Cabbage'}}\n",
      "data_copy: {'string': 'India', 'integer': 100, 'float': 3.14, 'boolean': True, 'nested': {'fruit': 'Orange', 'vegitable': 'Cabbage'}}\n"
     ]
    }
   ],
   "source": [
    "# shallow copy\n",
    "import copy\n",
    "data = {\n",
    "    \"string\": \"India\",\n",
    "    \"integer\": 12345,\n",
    "    \"float\": 3.14,\n",
    "    \"boolean\": True,\n",
    "    \"nested\": {\n",
    "        \"fruit\": \"Apple\",\n",
    "        \"vegitable\": \"Cabbage\"\n",
    "    }\n",
    "}\n",
    "print(f\"data:      {data}\")\n",
    "data_copy = copy.copy(data)\n",
    "data_copy['integer'] = 100\n",
    "data_copy['nested']['fruit'] = 'Orange'\n",
    "print(f\"data:      {data}\")\n",
    "print(f\"data_copy: {data_copy}\")"
   ]
  },
  {
   "cell_type": "code",
   "execution_count": 68,
   "metadata": {},
   "outputs": [
    {
     "name": "stdout",
     "output_type": "stream",
     "text": [
      "data:      {'string': 'India', 'integer': 12345, 'float': 3.14, 'boolean': True, 'nested': {'fruit': 'Apple', 'vegitable': 'Cabbage'}}\n",
      "data:      {'string': 'India', 'integer': 12345, 'float': 3.14, 'boolean': True, 'nested': {'fruit': 'Apple', 'vegitable': 'Cabbage'}}\n",
      "data_copy: {'string': 'India', 'integer': 100, 'float': 3.14, 'boolean': True, 'nested': {'fruit': 'Orange', 'vegitable': 'Cabbage'}}\n"
     ]
    }
   ],
   "source": [
    "# deep copy\n",
    "import copy\n",
    "data = {\n",
    "    \"string\": \"India\",\n",
    "    \"integer\": 12345,\n",
    "    \"float\": 3.14,\n",
    "    \"boolean\": True,\n",
    "    \"nested\": {\n",
    "        \"fruit\": \"Apple\",\n",
    "        \"vegitable\": \"Cabbage\"\n",
    "    }\n",
    "}\n",
    "print(f\"data:      {data}\")\n",
    "data_copy = copy.deepcopy(data)\n",
    "data_copy['integer'] = 100\n",
    "data_copy['nested']['fruit'] = 'Orange'\n",
    "print(f\"data:      {data}\")\n",
    "print(f\"data_copy: {data_copy}\")"
   ]
  },
  {
   "cell_type": "markdown",
   "metadata": {},
   "source": [
    "### os"
   ]
  },
  {
   "cell_type": "code",
   "execution_count": 69,
   "metadata": {},
   "outputs": [
    {
     "name": "stdout",
     "output_type": "stream",
     "text": [
      "/Users/arvind\n",
      "/Users/arvind\n",
      "None\n",
      ".\n",
      "/Users/arvind/Study/Python/Introduction To Python\n"
     ]
    }
   ],
   "source": [
    "import os\n",
    "print(os.environ['HOME']) # This will throw an error is key is invalid\n",
    "print(os.getenv('HOME'))\n",
    "print(os.getenv('HOMES'))\n",
    "print(os.curdir)\n",
    "print(os.getcwd())"
   ]
  },
  {
   "cell_type": "markdown",
   "metadata": {},
   "source": [
    "### requests\n",
    "**This is third party package, make sure to install requests**  \n",
    "`pip install requests`"
   ]
  },
  {
   "cell_type": "code",
   "execution_count": 70,
   "metadata": {},
   "outputs": [
    {
     "name": "stdout",
     "output_type": "stream",
     "text": [
      "url:          https://api.github.com/\n",
      "status code:  200\n",
      "content type: application/json; charset=utf-8\n",
      "from json:    https://api.github.com/user\n",
      "\n",
      "b'{\\n  \"current_user_url\": \"https://api.github.com/user\",\\n  \"current_user_authorizations_html_url\": \"https://github.com/settings/connections/applications{/client_id}\",\\n  \"authorizations_url\": \"https://api.github.com/authorizations\",\\n  \"code_search_url\": \"https://api.github.com/search/code?q={query}{&page,per_page,sort,order}\",\\n  \"commit_search_url\": \"https://api.github.com/search/commits?q={query}{&page,per_page,sort,order}\",\\n  \"emails_url\": \"https://api.github.com/user/emails\",\\n  \"emojis_url\": \"https://api.github.com/emojis\",\\n  \"events_url\": \"https://api.github.com/events\",\\n  \"feeds_url\": \"https://api.github.com/feeds\",\\n  \"followers_url\": \"https://api.github.com/user/followers\",\\n  \"following_url\": \"https://api.github.com/user/following{/target}\",\\n  \"gists_url\": \"https://api.github.com/gists{/gist_id}\",\\n  \"hub_url\": \"https://api.github.com/hub\",\\n  \"issue_search_url\": \"https://api.github.com/search/issues?q={query}{&page,per_page,sort,order}\",\\n  \"issues_url\": \"https://api.github.com/issues\",\\n  \"keys_url\": \"https://api.github.com/user/keys\",\\n  \"label_search_url\": \"https://api.github.com/search/labels?q={query}&repository_id={repository_id}{&page,per_page}\",\\n  \"notifications_url\": \"https://api.github.com/notifications\",\\n  \"organization_url\": \"https://api.github.com/orgs/{org}\",\\n  \"organization_repositories_url\": \"https://api.github.com/orgs/{org}/repos{?type,page,per_page,sort}\",\\n  \"organization_teams_url\": \"https://api.github.com/orgs/{org}/teams\",\\n  \"public_gists_url\": \"https://api.github.com/gists/public\",\\n  \"rate_limit_url\": \"https://api.github.com/rate_limit\",\\n  \"repository_url\": \"https://api.github.com/repos/{owner}/{repo}\",\\n  \"repository_search_url\": \"https://api.github.com/search/repositories?q={query}{&page,per_page,sort,order}\",\\n  \"current_user_repositories_url\": \"https://api.github.com/user/repos{?type,page,per_page,sort}\",\\n  \"starred_url\": \"https://api.github.com/user/starred{/owner}{/repo}\",\\n  \"starred_gists_url\": \"https://api.github.com/gists/starred\",\\n  \"topic_search_url\": \"https://api.github.com/search/topics?q={query}{&page,per_page}\",\\n  \"user_url\": \"https://api.github.com/users/{user}\",\\n  \"user_organizations_url\": \"https://api.github.com/user/orgs\",\\n  \"user_repositories_url\": \"https://api.github.com/users/{user}/repos{?type,page,per_page,sort}\",\\n  \"user_search_url\": \"https://api.github.com/search/users?q={query}{&page,per_page,sort,order}\"\\n}\\n'\n"
     ]
    }
   ],
   "source": [
    "import requests \n",
    "\n",
    "response = requests.get('https://api.github.com/')\n",
    "print(f\"url:          {response.url}\")\n",
    "print(f\"status code:  {response.status_code}\")\n",
    "print(f\"content type: {response.headers['Content-Type']}\")\n",
    "response_json = response.json()\n",
    "print(f\"from json:    {response_json['current_user_url']}\\n\")\n",
    "print(response.content)"
   ]
  }
 ],
 "metadata": {
  "kernelspec": {
   "display_name": "Python 3 (ipykernel)",
   "language": "python",
   "name": "python3"
  },
  "language_info": {
   "codemirror_mode": {
    "name": "ipython",
    "version": 3
   },
   "file_extension": ".py",
   "mimetype": "text/x-python",
   "name": "python",
   "nbconvert_exporter": "python",
   "pygments_lexer": "ipython3",
   "version": "3.11.1"
  },
  "toc-autonumbering": true,
  "toc-showcode": false
 },
 "nbformat": 4,
 "nbformat_minor": 4
}
