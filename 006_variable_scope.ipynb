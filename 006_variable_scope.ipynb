{
 "cells": [
  {
   "cell_type": "markdown",
   "metadata": {},
   "source": [
    "# Variable Scope\n",
    "* global\n",
    "* nonlocal"
   ]
  },
  {
   "cell_type": "markdown",
   "metadata": {},
   "source": [
    "## global"
   ]
  },
  {
   "cell_type": "code",
   "execution_count": 1,
   "metadata": {},
   "outputs": [
    {
     "name": "stdout",
     "output_type": "stream",
     "text": [
      "connected\n",
      "not connected\n",
      "connected\n"
     ]
    }
   ],
   "source": [
    "database_connection = 'connected'\n",
    "\n",
    "def check_connection():\n",
    "    database_connection = 'not connected'\n",
    "    print(database_connection)\n",
    "\n",
    "print(database_connection)\n",
    "check_connection()\n",
    "print(database_connection)"
   ]
  },
  {
   "cell_type": "code",
   "execution_count": 2,
   "metadata": {},
   "outputs": [
    {
     "name": "stdout",
     "output_type": "stream",
     "text": [
      "not connected\n",
      "connected\n",
      "connected\n",
      "10\n"
     ]
    }
   ],
   "source": [
    "database_connection = 'not connected'\n",
    "\n",
    "def check_connection():\n",
    "    global database_connection, pool_size\n",
    "    database_connection = 'connected'\n",
    "    pool_size = 10\n",
    "    print(database_connection)\n",
    "\n",
    "print(database_connection)\n",
    "check_connection()\n",
    "print(database_connection)\n",
    "print(pool_size)"
   ]
  },
  {
   "cell_type": "markdown",
   "metadata": {},
   "source": [
    "## nonlocal"
   ]
  },
  {
   "cell_type": "code",
   "execution_count": 3,
   "metadata": {},
   "outputs": [
    {
     "name": "stdout",
     "output_type": "stream",
     "text": [
      "connected 20\n",
      "connected 20\n",
      "connected 0\n"
     ]
    }
   ],
   "source": [
    "database_connection = 'not connected'\n",
    "pool_size = 0\n",
    "\n",
    "def check_connection():\n",
    "    global database_connection\n",
    "    database_connection = 'connected'\n",
    "    pool_size = 10\n",
    "\n",
    "    def change_pool_size(size):\n",
    "        nonlocal pool_size\n",
    "        pool_size = size\n",
    "        print(database_connection, pool_size)\n",
    "\n",
    "    change_pool_size(20)\n",
    "    print(database_connection, pool_size)\n",
    "\n",
    "check_connection()\n",
    "print(database_connection, pool_size)"
   ]
  }
 ],
 "metadata": {
  "kernelspec": {
   "display_name": "Python 3 (ipykernel)",
   "language": "python",
   "name": "python3"
  },
  "language_info": {
   "codemirror_mode": {
    "name": "ipython",
    "version": 3
   },
   "file_extension": ".py",
   "mimetype": "text/x-python",
   "name": "python",
   "nbconvert_exporter": "python",
   "pygments_lexer": "ipython3",
   "version": "3.11.1"
  },
  "toc-autonumbering": true,
  "toc-showcode": false
 },
 "nbformat": 4,
 "nbformat_minor": 4
}
