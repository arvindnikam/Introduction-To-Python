{
 "cells": [
  {
   "cell_type": "markdown",
   "metadata": {},
   "source": [
    "# Classes and Inheritance\n",
    "\n",
    "* User Defined Class\n",
    "* Inheritance"
   ]
  },
  {
   "cell_type": "markdown",
   "metadata": {},
   "source": [
    "## User Defined Class"
   ]
  },
  {
   "cell_type": "code",
   "execution_count": 1,
   "metadata": {},
   "outputs": [],
   "source": [
    "class Employee:\n",
    "    def greeting(self, name):\n",
    "        return f\"Hi! {name}\""
   ]
  },
  {
   "cell_type": "code",
   "execution_count": 2,
   "metadata": {},
   "outputs": [
    {
     "data": {
      "text/plain": [
       "'Hi! Buddy'"
      ]
     },
     "execution_count": 2,
     "metadata": {},
     "output_type": "execute_result"
    }
   ],
   "source": [
    "e1 = Employee()\n",
    "e1.greeting('Buddy')"
   ]
  },
  {
   "cell_type": "markdown",
   "metadata": {},
   "source": [
    "### Initialize instance"
   ]
  },
  {
   "cell_type": "code",
   "execution_count": 3,
   "metadata": {},
   "outputs": [],
   "source": [
    "class Employee:\n",
    "    def __init__(self, name):\n",
    "        self.name = name\n",
    "\n",
    "    def greeting(self):\n",
    "        return f\"Hi! {self.name}\""
   ]
  },
  {
   "cell_type": "code",
   "execution_count": 4,
   "metadata": {},
   "outputs": [
    {
     "data": {
      "text/plain": [
       "'Hi! Buddy'"
      ]
     },
     "execution_count": 4,
     "metadata": {},
     "output_type": "execute_result"
    }
   ],
   "source": [
    "e1 = Employee('Buddy')\n",
    "e1.greeting()"
   ]
  },
  {
   "cell_type": "markdown",
   "metadata": {},
   "source": [
    "### Class/Static variable"
   ]
  },
  {
   "cell_type": "code",
   "execution_count": 5,
   "metadata": {},
   "outputs": [],
   "source": [
    "class Employee:\n",
    "    employee_count = 0\n",
    "\n",
    "    def __init__(self, name):\n",
    "        global employee_count\n",
    "        self.name = name\n",
    "        Employee.employee_count += 1\n",
    "\n",
    "    def greeting(self):\n",
    "        return f\"Hi! {self.name}\""
   ]
  },
  {
   "cell_type": "code",
   "execution_count": 6,
   "metadata": {},
   "outputs": [
    {
     "name": "stdout",
     "output_type": "stream",
     "text": [
      "Hi! Buddy1\n",
      "1\n",
      "Hi! Buddy2\n",
      "2\n",
      "2\n"
     ]
    }
   ],
   "source": [
    "e1 = Employee('Buddy1')\n",
    "print(e1.greeting())\n",
    "print(Employee.employee_count)\n",
    "\n",
    "e2 = Employee('Buddy2')\n",
    "print(e2.greeting())\n",
    "print(Employee.employee_count)\n",
    "print(e1.employee_count)\n"
   ]
  },
  {
   "cell_type": "markdown",
   "metadata": {},
   "source": [
    "### Dataclasses"
   ]
  },
  {
   "cell_type": "code",
   "execution_count": 7,
   "metadata": {},
   "outputs": [],
   "source": [
    "from dataclasses import dataclass\n",
    "\n",
    "@dataclass\n",
    "class Employee:\n",
    "    name: str\n",
    "    dept: str\n",
    "    salary: int"
   ]
  },
  {
   "cell_type": "code",
   "execution_count": 8,
   "metadata": {},
   "outputs": [
    {
     "name": "stdout",
     "output_type": "stream",
     "text": [
      "Buddy1\n",
      "Buddy2\n"
     ]
    }
   ],
   "source": [
    "e1 = Employee('Buddy1', 'Engineering', 50000)\n",
    "print(e1.name)\n",
    "e2 = Employee('Buddy2', 'Engineering', 50000)\n",
    "print(e2.name)\n"
   ]
  },
  {
   "cell_type": "markdown",
   "metadata": {},
   "source": [
    "## Inheritance"
   ]
  },
  {
   "cell_type": "code",
   "execution_count": 9,
   "metadata": {},
   "outputs": [],
   "source": [
    "from dataclasses import dataclass, field\n",
    "\n",
    "@dataclass\n",
    "class Manager(Employee):\n",
    "    number_of_reporties: int = 0\n",
    "    reporties: list = field(default_factory=list)\n",
    "\n",
    "    def add_reporties(self, employee):\n",
    "        self.reporties.append(employee)\n",
    "        self.number_of_reporties += 1"
   ]
  },
  {
   "cell_type": "code",
   "execution_count": 10,
   "metadata": {},
   "outputs": [
    {
     "name": "stdout",
     "output_type": "stream",
     "text": [
      "Manager1\n",
      "0\n",
      "[]\n"
     ]
    }
   ],
   "source": [
    "m1 = Manager('Manager1', 'Enginnering', 100000)\n",
    "print(m1.name)\n",
    "print(m1.number_of_reporties)\n",
    "print(m1.reporties)"
   ]
  },
  {
   "cell_type": "code",
   "execution_count": 11,
   "metadata": {},
   "outputs": [
    {
     "name": "stdout",
     "output_type": "stream",
     "text": [
      "2\n",
      "[Employee(name='Buddy1', dept='Engineering', salary=50000), Employee(name='Buddy2', dept='Engineering', salary=50000)]\n"
     ]
    }
   ],
   "source": [
    "m1.add_reporties(e1)\n",
    "m1.add_reporties(e2)\n",
    "print(m1.number_of_reporties)\n",
    "print(m1.reporties)"
   ]
  },
  {
   "cell_type": "code",
   "execution_count": 12,
   "metadata": {},
   "outputs": [
    {
     "data": {
      "text/plain": [
       "'Buddy1'"
      ]
     },
     "execution_count": 12,
     "metadata": {},
     "output_type": "execute_result"
    }
   ],
   "source": [
    "m1.reporties[0].name"
   ]
  }
 ],
 "metadata": {
  "kernelspec": {
   "display_name": "Python 3 (ipykernel)",
   "language": "python",
   "name": "python3"
  },
  "language_info": {
   "codemirror_mode": {
    "name": "ipython",
    "version": 3
   },
   "file_extension": ".py",
   "mimetype": "text/x-python",
   "name": "python",
   "nbconvert_exporter": "python",
   "pygments_lexer": "ipython3",
   "version": "3.11.1"
  },
  "toc-autonumbering": true,
  "toc-showcode": false
 },
 "nbformat": 4,
 "nbformat_minor": 4
}
