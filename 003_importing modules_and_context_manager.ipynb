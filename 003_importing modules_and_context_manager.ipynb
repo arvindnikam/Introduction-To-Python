{
 "cells": [
  {
   "cell_type": "markdown",
   "metadata": {},
   "source": [
    "# Importing Modules and Context Manager\n",
    "\n",
    "* Importing Modules\n",
    "* Context Manager"
   ]
  },
  {
   "cell_type": "markdown",
   "metadata": {},
   "source": [
    "## Importing Modules"
   ]
  },
  {
   "cell_type": "code",
   "execution_count": 1,
   "metadata": {},
   "outputs": [
    {
     "name": "stdout",
     "output_type": "stream",
     "text": [
      "2024-01-13 16:11:44.408774\n"
     ]
    }
   ],
   "source": [
    "import datetime as dt\n",
    "\n",
    "time = dt.datetime.now()\n",
    "print (time)"
   ]
  },
  {
   "cell_type": "markdown",
   "metadata": {},
   "source": [
    "## Context Manager"
   ]
  },
  {
   "cell_type": "code",
   "execution_count": 2,
   "metadata": {},
   "outputs": [
    {
     "name": "stdout",
     "output_type": "stream",
     "text": [
      "a: 1\n",
      "before block\n",
      "b: 2\n",
      "after block\n"
     ]
    }
   ],
   "source": [
    "from contextlib import contextmanager\n",
    "\n",
    "@contextmanager\n",
    "def wrapper():\n",
    "    print(\"before block\")\n",
    "    yield\n",
    "    print(\"after block\")\n",
    "\n",
    "def fun(a, b):\n",
    "    print(\"fa: {a}\")\n",
    "    with wrapper():\n",
    "        print(f\"b: {b}\")\n",
    "\n",
    "def fun(a, b):\n",
    "    print(f\"a: {a}\")\n",
    "    with wrapper():\n",
    "        print(f\"b: {b}\")\n",
    "\n",
    "fun(1, 2)"
   ]
  }
 ],
 "metadata": {
  "kernelspec": {
   "display_name": "Python 3 (ipykernel)",
   "language": "python",
   "name": "python3"
  },
  "language_info": {
   "codemirror_mode": {
    "name": "ipython",
    "version": 3
   },
   "file_extension": ".py",
   "mimetype": "text/x-python",
   "name": "python",
   "nbconvert_exporter": "python",
   "pygments_lexer": "ipython3",
   "version": "3.11.1"
  },
  "toc-autonumbering": true,
  "toc-showcode": false
 },
 "nbformat": 4,
 "nbformat_minor": 4
}
