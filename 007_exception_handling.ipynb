{
 "cells": [
  {
   "cell_type": "markdown",
   "metadata": {},
   "source": [
    "# Exception Handling\n",
    "* Introduction to Exception\n",
    "* try...except\n",
    "* try...except...else\n",
    "* try...except...finally\n",
    "* User Defined Exceptions"
   ]
  },
  {
   "cell_type": "code",
   "execution_count": 13,
   "metadata": {},
   "outputs": [
    {
     "name": "stdout",
     "output_type": "stream",
     "text": [
      " BaseException\n",
      "\t BaseExceptionGroup\n",
      "\t\t ExceptionGroup\n",
      "\t Exception\n",
      "\t\t ArithmeticError\n",
      "\t\t\t FloatingPointError\n",
      "\t\t\t OverflowError\n",
      "\t\t\t ZeroDivisionError\n",
      "\t\t\t\t DivisionByZero\n",
      "\t\t\t\t DivisionUndefined\n",
      "\t\t\t DecimalException\n",
      "\t\t\t\t Clamped\n",
      "\t\t\t\t Rounded\n",
      "\t\t\t\t\t Underflow\n",
      "\t\t\t\t\t Overflow\n",
      "\t\t\t\t Inexact\n",
      "\t\t\t\t\t Underflow\n",
      "\t\t\t\t\t Overflow\n",
      "\t\t\t\t Subnormal\n",
      "\t\t\t\t\t Underflow\n",
      "\t\t\t\t DivisionByZero\n",
      "\t\t\t\t FloatOperation\n",
      "\t\t\t\t InvalidOperation\n",
      "\t\t\t\t\t ConversionSyntax\n",
      "\t\t\t\t\t DivisionImpossible\n",
      "\t\t\t\t\t DivisionUndefined\n",
      "\t\t\t\t\t InvalidContext\n",
      "\t\t AssertionError\n",
      "\t\t AttributeError\n",
      "\t\t\t FrozenInstanceError\n",
      "\t\t BufferError\n",
      "\t\t EOFError\n",
      "\t\t\t IncompleteReadError\n",
      "\t\t ImportError\n",
      "\t\t\t ModuleNotFoundError\n",
      "\t\t\t\t PackageNotFoundError\n",
      "\t\t\t ZipImportError\n",
      "\t\t LookupError\n",
      "\t\t\t IndexError\n",
      "\t\t\t KeyError\n",
      "\t\t\t\t NoSuchKernel\n",
      "\t\t\t\t UnknownBackend\n",
      "\t\t\t CodecRegistryError\n",
      "\t\t MemoryError\n",
      "\t\t NameError\n",
      "\t\t\t UnboundLocalError\n",
      "\t\t OSError\n",
      "\t\t\t BlockingIOError\n",
      "\t\t\t ChildProcessError\n",
      "\t\t\t ConnectionError\n",
      "\t\t\t\t BrokenPipeError\n",
      "\t\t\t\t ConnectionAbortedError\n",
      "\t\t\t\t ConnectionRefusedError\n",
      "\t\t\t\t ConnectionResetError\n",
      "\t\t\t\t\t RemoteDisconnected\n",
      "\t\t\t FileExistsError\n",
      "\t\t\t FileNotFoundError\n",
      "\t\t\t InterruptedError\n",
      "\t\t\t\t InterruptedSystemCall\n",
      "\t\t\t IsADirectoryError\n",
      "\t\t\t NotADirectoryError\n",
      "\t\t\t PermissionError\n",
      "\t\t\t ProcessLookupError\n",
      "\t\t\t TimeoutError\n",
      "\t\t\t UnsupportedOperation\n",
      "\t\t\t itimer_error\n",
      "\t\t\t herror\n",
      "\t\t\t gaierror\n",
      "\t\t\t SSLError\n",
      "\t\t\t\t SSLCertVerificationError\n",
      "\t\t\t\t SSLZeroReturnError\n",
      "\t\t\t\t SSLWantWriteError\n",
      "\t\t\t\t SSLWantReadError\n",
      "\t\t\t\t SSLSyscallError\n",
      "\t\t\t\t SSLEOFError\n",
      "\t\t\t Error\n",
      "\t\t\t\t SameFileError\n",
      "\t\t\t SpecialFileError\n",
      "\t\t\t ExecError\n",
      "\t\t\t ReadError\n",
      "\t\t\t URLError\n",
      "\t\t\t\t HTTPError\n",
      "\t\t\t\t ContentTooShortError\n",
      "\t\t\t BadGzipFile\n",
      "\t\t ReferenceError\n",
      "\t\t RuntimeError\n",
      "\t\t\t NotImplementedError\n",
      "\t\t\t\t ZMQVersionError\n",
      "\t\t\t\t StdinNotImplementedError\n",
      "\t\t\t RecursionError\n",
      "\t\t\t _DeadlockError\n",
      "\t\t\t BrokenBarrierError\n",
      "\t\t\t BrokenExecutor\n",
      "\t\t\t\t BrokenThreadPool\n",
      "\t\t\t SendfileNotAvailableError\n",
      "\t\t\t BrokenBarrierError\n",
      "\t\t\t VariableError\n",
      "\t\t StopAsyncIteration\n",
      "\t\t StopIteration\n",
      "\t\t SyntaxError\n",
      "\t\t\t IndentationError\n",
      "\t\t\t\t TabError\n",
      "\t\t SystemError\n",
      "\t\t\t CodecRegistryError\n",
      "\t\t TypeError\n",
      "\t\t\t FloatOperation\n",
      "\t\t\t MultipartConversionError\n",
      "\t\t ValueError\n",
      "\t\t\t UnicodeError\n",
      "\t\t\t\t UnicodeDecodeError\n",
      "\t\t\t\t UnicodeEncodeError\n",
      "\t\t\t\t UnicodeTranslateError\n",
      "\t\t\t UnsupportedOperation\n",
      "\t\t\t JSONDecodeError\n",
      "\t\t\t SSLCertVerificationError\n",
      "\t\t\t Error\n",
      "\t\t\t UnsupportedDigestmodError\n",
      "\t\t\t IllegalMonthError\n",
      "\t\t\t IllegalWeekdayError\n",
      "\t\t\t ParserError\n",
      "\t\t\t MessageDefect\n",
      "\t\t\t\t NoBoundaryInMultipartDefect\n",
      "\t\t\t\t StartBoundaryNotFoundDefect\n",
      "\t\t\t\t CloseBoundaryNotFoundDefect\n",
      "\t\t\t\t FirstHeaderLineIsContinuationDefect\n",
      "\t\t\t\t MisplacedEnvelopeHeaderDefect\n",
      "\t\t\t\t MissingHeaderBodySeparatorDefect\n",
      "\t\t\t\t MultipartInvariantViolationDefect\n",
      "\t\t\t\t InvalidMultipartContentTransferEncodingDefect\n",
      "\t\t\t\t UndecodableBytesDefect\n",
      "\t\t\t\t InvalidBase64PaddingDefect\n",
      "\t\t\t\t InvalidBase64CharactersDefect\n",
      "\t\t\t\t InvalidBase64LengthDefect\n",
      "\t\t\t\t HeaderDefect\n",
      "\t\t\t\t\t InvalidHeaderDefect\n",
      "\t\t\t\t\t HeaderMissingRequiredValue\n",
      "\t\t\t\t\t NonPrintableDefect\n",
      "\t\t\t\t\t ObsoleteHeaderDefect\n",
      "\t\t\t\t\t NonASCIILocalPartDefect\n",
      "\t\t\t\t\t InvalidDateDefect\n",
      "\t\t\t ClassNotFound\n",
      "\t\t\t ClipboardEmpty\n",
      "\t\t\t MacroToEdit\n",
      "\t\t\t InvalidFileException\n",
      "\t\t\t InvalidVersion\n",
      "\t\t Warning\n",
      "\t\t\t BytesWarning\n",
      "\t\t\t DeprecationWarning\n",
      "\t\t\t\t ProvisionalWarning\n",
      "\t\t\t EncodingWarning\n",
      "\t\t\t FutureWarning\n",
      "\t\t\t\t ProvisionalCompleterWarning\n",
      "\t\t\t ImportWarning\n",
      "\t\t\t PendingDeprecationWarning\n",
      "\t\t\t ResourceWarning\n",
      "\t\t\t RuntimeWarning\n",
      "\t\t\t\t ProactorSelectorThreadWarning\n",
      "\t\t\t\t UnknownTimezoneWarning\n",
      "\t\t\t SyntaxWarning\n",
      "\t\t\t UnicodeWarning\n",
      "\t\t\t UserWarning\n",
      "\t\t\t\t GetPassWarning\n",
      "\t\t\t\t FormatterWarning\n",
      "\t\t\t DeprecatedTzFormatWarning\n",
      "\t\t ExceptionGroup\n",
      "\t\t _OptionError\n",
      "\t\t _Error\n",
      "\t\t error\n",
      "\t\t Error\n",
      "\t\t SubprocessError\n",
      "\t\t\t CalledProcessError\n",
      "\t\t\t TimeoutExpired\n",
      "\t\t ArgumentError\n",
      "\t\t error\n",
      "\t\t ZMQBaseError\n",
      "\t\t\t ZMQError\n",
      "\t\t\t\t ContextTerminated\n",
      "\t\t\t\t Again\n",
      "\t\t\t\t InterruptedSystemCall\n",
      "\t\t\t ZMQBindError\n",
      "\t\t\t NotDone\n",
      "\t\t Error\n",
      "\t\t PickleError\n",
      "\t\t\t PicklingError\n",
      "\t\t\t UnpicklingError\n",
      "\t\t _Stop\n",
      "\t\t TokenError\n",
      "\t\t StopTokenizing\n",
      "\t\t Error\n",
      "\t\t\t CancelledError\n",
      "\t\t\t InvalidStateError\n",
      "\t\t _GiveupOnSendfile\n",
      "\t\t Incomplete\n",
      "\t\t ClassFoundException\n",
      "\t\t EndOfBlock\n",
      "\t\t InvalidStateError\n",
      "\t\t LimitOverrunError\n",
      "\t\t QueueEmpty\n",
      "\t\t QueueFull\n",
      "\t\t TraitError\n",
      "\t\t Empty\n",
      "\t\t Full\n",
      "\t\t error\n",
      "\t\t error\n",
      "\t\t ReturnValueIgnoredError\n",
      "\t\t ArgumentError\n",
      "\t\t ArgumentTypeError\n",
      "\t\t ConfigError\n",
      "\t\t\t ConfigLoaderError\n",
      "\t\t\t\t ArgumentError\n",
      "\t\t\t ConfigFileNotFound\n",
      "\t\t ConfigurableError\n",
      "\t\t\t MultipleInstanceError\n",
      "\t\t ApplicationError\n",
      "\t\t InvalidPortNumber\n",
      "\t\t error\n",
      "\t\t LZMAError\n",
      "\t\t RegistryError\n",
      "\t\t _GiveupOnFastCopy\n",
      "\t\t NoIPAddresses\n",
      "\t\t Error\n",
      "\t\t BadZipFile\n",
      "\t\t LargeZipFile\n",
      "\t\t MessageError\n",
      "\t\t\t MessageParseError\n",
      "\t\t\t\t HeaderParseError\n",
      "\t\t\t\t BoundaryError\n",
      "\t\t\t MultipartConversionError\n",
      "\t\t\t CharsetError\n",
      "\t\t DuplicateKernelError\n",
      "\t\t ErrorDuringImport\n",
      "\t\t NotOneValueFound\n",
      "\t\t KnownIssue\n",
      "\t\t VerifierFailure\n",
      "\t\t CannotEval\n",
      "\t\t OptionError\n",
      "\t\t BdbQuit\n",
      "\t\t Restart\n",
      "\t\t ExceptionPexpect\n",
      "\t\t\t EOF\n",
      "\t\t\t TIMEOUT\n",
      "\t\t PtyProcessError\n",
      "\t\t FindCmdError\n",
      "\t\t HomeDirError\n",
      "\t\t ProfileDirError\n",
      "\t\t IPythonCoreError\n",
      "\t\t\t TryNext\n",
      "\t\t\t UsageError\n",
      "\t\t\t StdinNotImplementedError\n",
      "\t\t InputRejected\n",
      "\t\t GetoptError\n",
      "\t\t ErrorToken\n",
      "\t\t PrefilterError\n",
      "\t\t AliasError\n",
      "\t\t\t InvalidAliasError\n",
      "\t\t Error\n",
      "\t\t\t InterfaceError\n",
      "\t\t\t DatabaseError\n",
      "\t\t\t\t InternalError\n",
      "\t\t\t\t OperationalError\n",
      "\t\t\t\t ProgrammingError\n",
      "\t\t\t\t IntegrityError\n",
      "\t\t\t\t DataError\n",
      "\t\t\t\t NotSupportedError\n",
      "\t\t Warning\n",
      "\t\t SpaceInInput\n",
      "\t\t DOMException\n",
      "\t\t\t IndexSizeErr\n",
      "\t\t\t DomstringSizeErr\n",
      "\t\t\t HierarchyRequestErr\n",
      "\t\t\t WrongDocumentErr\n",
      "\t\t\t InvalidCharacterErr\n",
      "\t\t\t NoDataAllowedErr\n",
      "\t\t\t NoModificationAllowedErr\n",
      "\t\t\t NotFoundErr\n",
      "\t\t\t NotSupportedErr\n",
      "\t\t\t InuseAttributeErr\n",
      "\t\t\t InvalidStateErr\n",
      "\t\t\t SyntaxErr\n",
      "\t\t\t InvalidModificationErr\n",
      "\t\t\t NamespaceErr\n",
      "\t\t\t InvalidAccessErr\n",
      "\t\t\t ValidationErr\n",
      "\t\t ValidationError\n",
      "\t\t EditReadOnlyBuffer\n",
      "\t\t _Retry\n",
      "\t\t InvalidLayoutError\n",
      "\t\t HeightIsUnknownError\n",
      "\t\t GuardRejection\n",
      "\t\t ParserSyntaxError\n",
      "\t\t InternalParseError\n",
      "\t\t _PositionUpdatingFinished\n",
      "\t\t SimpleGetItemNotFound\n",
      "\t\t UncaughtAttributeError\n",
      "\t\t HasNoContext\n",
      "\t\t ParamIssue\n",
      "\t\t _JediError\n",
      "\t\t\t InternalError\n",
      "\t\t\t WrongVersion\n",
      "\t\t\t RefactoringError\n",
      "\t\t OnErrorLeaf\n",
      "\t\t InvalidPythonEnvironment\n",
      "\t\t HTTPException\n",
      "\t\t\t NotConnected\n",
      "\t\t\t InvalidURL\n",
      "\t\t\t UnknownProtocol\n",
      "\t\t\t UnknownTransferEncoding\n",
      "\t\t\t UnimplementedFileMode\n",
      "\t\t\t IncompleteRead\n",
      "\t\t\t ImproperConnectionState\n",
      "\t\t\t\t CannotSendRequest\n",
      "\t\t\t\t CannotSendHeader\n",
      "\t\t\t\t ResponseNotReady\n",
      "\t\t\t BadStatusLine\n",
      "\t\t\t\t RemoteDisconnected\n",
      "\t\t\t LineTooLong\n",
      "\t\t InteractivelyDefined\n",
      "\t\t KillEmbedded\n",
      "\t\t Error\n",
      "\t\t\t NoSuchProcess\n",
      "\t\t\t\t ZombieProcess\n",
      "\t\t\t AccessDenied\n",
      "\t\t\t TimeoutExpired\n",
      "\t\t KeyReuseError\n",
      "\t\t UnknownKeyError\n",
      "\t\t LeakedCallbackError\n",
      "\t\t BadYieldError\n",
      "\t\t ReturnValueIgnoredError\n",
      "\t\t Return\n",
      "\t\t QueueEmpty\n",
      "\t\t QueueFull\n",
      "\t\t DebuggerInitializationError\n",
      "\t\t ExpatError\n",
      "\t\t Error\n",
      "\t\t\t ProtocolError\n",
      "\t\t\t ResponseError\n",
      "\t\t\t Fault\n",
      "\t\t _Error\n",
      "\t\t UnableToResolveVariableException\n",
      "\t\t InvalidTypeInArgsException\n",
      "\t GeneratorExit\n",
      "\t KeyboardInterrupt\n",
      "\t SystemExit\n",
      "\t CancelledError\n"
     ]
    }
   ],
   "source": [
    "import inspect\n",
    "\n",
    "def get_exception_tree(cls, ind = 0):\n",
    "    print ('\\t' * ind, cls.__name__)\n",
    "    for i in cls.__subclasses__():\n",
    "        treeClass(i, ind + 1)\n",
    "\n",
    "treeClass(BaseException)"
   ]
  },
  {
   "cell_type": "markdown",
   "metadata": {},
   "source": [
    "## try...except"
   ]
  },
  {
   "cell_type": "code",
   "execution_count": 17,
   "metadata": {},
   "outputs": [
    {
     "name": "stdin",
     "output_type": "stream",
     "text": [
      "x =  10\n",
      "y =  0\n"
     ]
    },
    {
     "ename": "ZeroDivisionError",
     "evalue": "division by zero",
     "output_type": "error",
     "traceback": [
      "\u001b[0;31m---------------------------------------------------------------------------\u001b[0m",
      "\u001b[0;31mZeroDivisionError\u001b[0m                         Traceback (most recent call last)",
      "Cell \u001b[0;32mIn[17], line 3\u001b[0m\n\u001b[1;32m      1\u001b[0m x \u001b[38;5;241m=\u001b[39m \u001b[38;5;28mint\u001b[39m(\u001b[38;5;28minput\u001b[39m(\u001b[38;5;124m\"\u001b[39m\u001b[38;5;124mx = \u001b[39m\u001b[38;5;124m\"\u001b[39m))\n\u001b[1;32m      2\u001b[0m y \u001b[38;5;241m=\u001b[39m \u001b[38;5;28mint\u001b[39m(\u001b[38;5;28minput\u001b[39m(\u001b[38;5;124m\"\u001b[39m\u001b[38;5;124my = \u001b[39m\u001b[38;5;124m\"\u001b[39m))\n\u001b[0;32m----> 3\u001b[0m \u001b[38;5;28mprint\u001b[39m(\u001b[38;5;124mf\u001b[39m\u001b[38;5;124m\"\u001b[39m\u001b[38;5;124mx / y = \u001b[39m\u001b[38;5;132;01m{\u001b[39;00m\u001b[43mx\u001b[49m\u001b[38;5;241;43m/\u001b[39;49m\u001b[43my\u001b[49m\u001b[38;5;132;01m}\u001b[39;00m\u001b[38;5;124m\"\u001b[39m)\n\u001b[1;32m      4\u001b[0m \u001b[38;5;28mprint\u001b[39m(\u001b[38;5;124m\"\u001b[39m\u001b[38;5;124mSuccess\u001b[39m\u001b[38;5;124m\"\u001b[39m)\n",
      "\u001b[0;31mZeroDivisionError\u001b[0m: division by zero"
     ]
    }
   ],
   "source": [
    "x = int(input(\"x = \"))\n",
    "y = int(input(\"y = \"))\n",
    "print(f\"x / y = {x/y}\")\n",
    "print(\"Success\")"
   ]
  },
  {
   "cell_type": "code",
   "execution_count": 19,
   "metadata": {},
   "outputs": [
    {
     "name": "stdin",
     "output_type": "stream",
     "text": [
      "x =  10\n",
      "y =  0\n"
     ]
    },
    {
     "name": "stdout",
     "output_type": "stream",
     "text": [
      "can't divide by zero\n",
      "Error\n"
     ]
    }
   ],
   "source": [
    "x = int(input(\"x = \"))\n",
    "y = int(input(\"y = \"))\n",
    "try:\n",
    "    print(f\"x / y = {x/y}\")\n",
    "    print(\"Success\")\n",
    "except ZeroDivisionError:\n",
    "    print(\"can't divide by zero\")\n",
    "    print(\"Error\")"
   ]
  },
  {
   "cell_type": "code",
   "execution_count": 24,
   "metadata": {},
   "outputs": [
    {
     "name": "stdin",
     "output_type": "stream",
     "text": [
      "x =  10\n",
      "y =  0\n"
     ]
    },
    {
     "name": "stdout",
     "output_type": "stream",
     "text": [
      "can't divide by zero\n",
      "inf\n"
     ]
    }
   ],
   "source": [
    "import math\n",
    "def division_function(x, y):\n",
    "    try:\n",
    "        return x/y\n",
    "    except ZeroDivisionError:\n",
    "        print(\"can't divide by zero\")\n",
    "        return math.inf\n",
    "\n",
    "x = int(input(\"x = \"))\n",
    "y = int(input(\"y = \"))\n",
    "print(division_function(x, y))"
   ]
  },
  {
   "cell_type": "code",
   "execution_count": 26,
   "metadata": {},
   "outputs": [
    {
     "name": "stdin",
     "output_type": "stream",
     "text": [
      "x =  10\n",
      "y =  0\n"
     ]
    },
    {
     "name": "stdout",
     "output_type": "stream",
     "text": [
      "can't divide by zero\n"
     ]
    },
    {
     "ename": "ZeroDivisionError",
     "evalue": "division by zero",
     "output_type": "error",
     "traceback": [
      "\u001b[0;31m---------------------------------------------------------------------------\u001b[0m",
      "\u001b[0;31mZeroDivisionError\u001b[0m                         Traceback (most recent call last)",
      "Cell \u001b[0;32mIn[26], line 14\u001b[0m\n\u001b[1;32m     12\u001b[0m x \u001b[38;5;241m=\u001b[39m \u001b[38;5;28mint\u001b[39m(\u001b[38;5;28minput\u001b[39m(\u001b[38;5;124m\"\u001b[39m\u001b[38;5;124mx = \u001b[39m\u001b[38;5;124m\"\u001b[39m))\n\u001b[1;32m     13\u001b[0m y \u001b[38;5;241m=\u001b[39m \u001b[38;5;28mint\u001b[39m(\u001b[38;5;28minput\u001b[39m(\u001b[38;5;124m\"\u001b[39m\u001b[38;5;124my = \u001b[39m\u001b[38;5;124m\"\u001b[39m))\n\u001b[0;32m---> 14\u001b[0m \u001b[38;5;28mprint\u001b[39m(\u001b[43mdivision_function\u001b[49m\u001b[43m(\u001b[49m\u001b[43mx\u001b[49m\u001b[43m,\u001b[49m\u001b[43m \u001b[49m\u001b[43my\u001b[49m\u001b[43m)\u001b[49m)\n",
      "Cell \u001b[0;32mIn[26], line 10\u001b[0m, in \u001b[0;36mdivision_function\u001b[0;34m(x, y)\u001b[0m\n\u001b[1;32m      9\u001b[0m \u001b[38;5;28;01mdef\u001b[39;00m \u001b[38;5;21mdivision_function\u001b[39m(x, y):\n\u001b[0;32m---> 10\u001b[0m     \u001b[38;5;28;01mreturn\u001b[39;00m \u001b[43mdo_division\u001b[49m\u001b[43m(\u001b[49m\u001b[43mx\u001b[49m\u001b[43m,\u001b[49m\u001b[43m \u001b[49m\u001b[43my\u001b[49m\u001b[43m)\u001b[49m\n",
      "Cell \u001b[0;32mIn[26], line 4\u001b[0m, in \u001b[0;36mdo_division\u001b[0;34m(x, y)\u001b[0m\n\u001b[1;32m      2\u001b[0m \u001b[38;5;28;01mdef\u001b[39;00m \u001b[38;5;21mdo_division\u001b[39m(x, y):\n\u001b[1;32m      3\u001b[0m     \u001b[38;5;28;01mtry\u001b[39;00m:\n\u001b[0;32m----> 4\u001b[0m         \u001b[38;5;28;01mreturn\u001b[39;00m \u001b[43mx\u001b[49m\u001b[38;5;241;43m/\u001b[39;49m\u001b[43my\u001b[49m\n\u001b[1;32m      5\u001b[0m     \u001b[38;5;28;01mexcept\u001b[39;00m \u001b[38;5;167;01mZeroDivisionError\u001b[39;00m:\n\u001b[1;32m      6\u001b[0m         \u001b[38;5;28mprint\u001b[39m(\u001b[38;5;124m\"\u001b[39m\u001b[38;5;124mcan\u001b[39m\u001b[38;5;124m'\u001b[39m\u001b[38;5;124mt divide by zero\u001b[39m\u001b[38;5;124m\"\u001b[39m)\n",
      "\u001b[0;31mZeroDivisionError\u001b[0m: division by zero"
     ]
    }
   ],
   "source": [
    "import math\n",
    "def do_division(x, y):\n",
    "    try:\n",
    "        return x/y\n",
    "    except ZeroDivisionError:\n",
    "        print(\"can't divide by zero\")\n",
    "        raise\n",
    "\n",
    "def division_function(x, y):\n",
    "    return do_division(x, y)\n",
    "\n",
    "x = int(input(\"x = \"))\n",
    "y = int(input(\"y = \"))\n",
    "print(division_function(x, y))"
   ]
  },
  {
   "cell_type": "code",
   "execution_count": 27,
   "metadata": {},
   "outputs": [
    {
     "name": "stdin",
     "output_type": "stream",
     "text": [
      "x =  10\n",
      "y =  0\n"
     ]
    },
    {
     "name": "stdout",
     "output_type": "stream",
     "text": [
      "can't divide by zero\n"
     ]
    },
    {
     "ename": "ValueError",
     "evalue": "",
     "output_type": "error",
     "traceback": [
      "\u001b[0;31m---------------------------------------------------------------------------\u001b[0m",
      "\u001b[0;31mZeroDivisionError\u001b[0m                         Traceback (most recent call last)",
      "Cell \u001b[0;32mIn[27], line 4\u001b[0m, in \u001b[0;36mdo_division\u001b[0;34m(x, y)\u001b[0m\n\u001b[1;32m      3\u001b[0m \u001b[38;5;28;01mtry\u001b[39;00m:\n\u001b[0;32m----> 4\u001b[0m     \u001b[38;5;28;01mreturn\u001b[39;00m \u001b[43mx\u001b[49m\u001b[38;5;241;43m/\u001b[39;49m\u001b[43my\u001b[49m\n\u001b[1;32m      5\u001b[0m \u001b[38;5;28;01mexcept\u001b[39;00m \u001b[38;5;167;01mZeroDivisionError\u001b[39;00m:\n",
      "\u001b[0;31mZeroDivisionError\u001b[0m: division by zero",
      "\nDuring handling of the above exception, another exception occurred:\n",
      "\u001b[0;31mValueError\u001b[0m                                Traceback (most recent call last)",
      "Cell \u001b[0;32mIn[27], line 14\u001b[0m\n\u001b[1;32m     12\u001b[0m x \u001b[38;5;241m=\u001b[39m \u001b[38;5;28mint\u001b[39m(\u001b[38;5;28minput\u001b[39m(\u001b[38;5;124m\"\u001b[39m\u001b[38;5;124mx = \u001b[39m\u001b[38;5;124m\"\u001b[39m))\n\u001b[1;32m     13\u001b[0m y \u001b[38;5;241m=\u001b[39m \u001b[38;5;28mint\u001b[39m(\u001b[38;5;28minput\u001b[39m(\u001b[38;5;124m\"\u001b[39m\u001b[38;5;124my = \u001b[39m\u001b[38;5;124m\"\u001b[39m))\n\u001b[0;32m---> 14\u001b[0m \u001b[38;5;28mprint\u001b[39m(\u001b[43mdivision_function\u001b[49m\u001b[43m(\u001b[49m\u001b[43mx\u001b[49m\u001b[43m,\u001b[49m\u001b[43m \u001b[49m\u001b[43my\u001b[49m\u001b[43m)\u001b[49m)\n",
      "Cell \u001b[0;32mIn[27], line 10\u001b[0m, in \u001b[0;36mdivision_function\u001b[0;34m(x, y)\u001b[0m\n\u001b[1;32m      9\u001b[0m \u001b[38;5;28;01mdef\u001b[39;00m \u001b[38;5;21mdivision_function\u001b[39m(x, y):\n\u001b[0;32m---> 10\u001b[0m     \u001b[38;5;28;01mreturn\u001b[39;00m \u001b[43mdo_division\u001b[49m\u001b[43m(\u001b[49m\u001b[43mx\u001b[49m\u001b[43m,\u001b[49m\u001b[43m \u001b[49m\u001b[43my\u001b[49m\u001b[43m)\u001b[49m\n",
      "Cell \u001b[0;32mIn[27], line 7\u001b[0m, in \u001b[0;36mdo_division\u001b[0;34m(x, y)\u001b[0m\n\u001b[1;32m      5\u001b[0m \u001b[38;5;28;01mexcept\u001b[39;00m \u001b[38;5;167;01mZeroDivisionError\u001b[39;00m:\n\u001b[1;32m      6\u001b[0m     \u001b[38;5;28mprint\u001b[39m(\u001b[38;5;124m\"\u001b[39m\u001b[38;5;124mcan\u001b[39m\u001b[38;5;124m'\u001b[39m\u001b[38;5;124mt divide by zero\u001b[39m\u001b[38;5;124m\"\u001b[39m)\n\u001b[0;32m----> 7\u001b[0m     \u001b[38;5;28;01mraise\u001b[39;00m \u001b[38;5;167;01mValueError\u001b[39;00m\n",
      "\u001b[0;31mValueError\u001b[0m: "
     ]
    }
   ],
   "source": [
    "import math\n",
    "def do_division(x, y):\n",
    "    try:\n",
    "        return x/y\n",
    "    except ZeroDivisionError:\n",
    "        print(\"can't divide by zero\")\n",
    "        raise ValueError\n",
    "\n",
    "def division_function(x, y):\n",
    "    return do_division(x, y)\n",
    "\n",
    "x = int(input(\"x = \"))\n",
    "y = int(input(\"y = \"))\n",
    "print(division_function(x, y))"
   ]
  },
  {
   "cell_type": "code",
   "execution_count": 33,
   "metadata": {},
   "outputs": [
    {
     "name": "stdin",
     "output_type": "stream",
     "text": [
      "x =  20\n",
      "y =  0\n"
     ]
    },
    {
     "name": "stdout",
     "output_type": "stream",
     "text": [
      "can't divide by zero division by zero\n"
     ]
    },
    {
     "ename": "ValueError",
     "evalue": "Invalid divider value",
     "output_type": "error",
     "traceback": [
      "\u001b[0;31m---------------------------------------------------------------------------\u001b[0m",
      "\u001b[0;31mZeroDivisionError\u001b[0m                         Traceback (most recent call last)",
      "Cell \u001b[0;32mIn[33], line 4\u001b[0m, in \u001b[0;36mdo_division\u001b[0;34m(x, y)\u001b[0m\n\u001b[1;32m      3\u001b[0m \u001b[38;5;28;01mtry\u001b[39;00m:\n\u001b[0;32m----> 4\u001b[0m     \u001b[38;5;28;01mreturn\u001b[39;00m \u001b[43mx\u001b[49m\u001b[38;5;241;43m/\u001b[39;49m\u001b[43my\u001b[49m\n\u001b[1;32m      5\u001b[0m \u001b[38;5;28;01mexcept\u001b[39;00m \u001b[38;5;167;01mZeroDivisionError\u001b[39;00m \u001b[38;5;28;01mas\u001b[39;00m e:\n",
      "\u001b[0;31mZeroDivisionError\u001b[0m: division by zero",
      "\nDuring handling of the above exception, another exception occurred:\n",
      "\u001b[0;31mValueError\u001b[0m                                Traceback (most recent call last)",
      "Cell \u001b[0;32mIn[33], line 16\u001b[0m\n\u001b[1;32m     14\u001b[0m x \u001b[38;5;241m=\u001b[39m \u001b[38;5;28mint\u001b[39m(\u001b[38;5;28minput\u001b[39m(\u001b[38;5;124m\"\u001b[39m\u001b[38;5;124mx = \u001b[39m\u001b[38;5;124m\"\u001b[39m))\n\u001b[1;32m     15\u001b[0m y \u001b[38;5;241m=\u001b[39m \u001b[38;5;28mint\u001b[39m(\u001b[38;5;28minput\u001b[39m(\u001b[38;5;124m\"\u001b[39m\u001b[38;5;124my = \u001b[39m\u001b[38;5;124m\"\u001b[39m))\n\u001b[0;32m---> 16\u001b[0m \u001b[38;5;28mprint\u001b[39m(\u001b[43mdivision_function\u001b[49m\u001b[43m(\u001b[49m\u001b[43mx\u001b[49m\u001b[43m,\u001b[49m\u001b[43m \u001b[49m\u001b[43my\u001b[49m\u001b[43m)\u001b[49m)\n",
      "Cell \u001b[0;32mIn[33], line 12\u001b[0m, in \u001b[0;36mdivision_function\u001b[0;34m(x, y)\u001b[0m\n\u001b[1;32m     11\u001b[0m \u001b[38;5;28;01mdef\u001b[39;00m \u001b[38;5;21mdivision_function\u001b[39m(x, y):\n\u001b[0;32m---> 12\u001b[0m     \u001b[38;5;28;01mreturn\u001b[39;00m \u001b[43mdo_division\u001b[49m\u001b[43m(\u001b[49m\u001b[43mx\u001b[49m\u001b[43m,\u001b[49m\u001b[43m \u001b[49m\u001b[43my\u001b[49m\u001b[43m)\u001b[49m\n",
      "Cell \u001b[0;32mIn[33], line 9\u001b[0m, in \u001b[0;36mdo_division\u001b[0;34m(x, y)\u001b[0m\n\u001b[1;32m      7\u001b[0m ve \u001b[38;5;241m=\u001b[39m \u001b[38;5;167;01mValueError\u001b[39;00m(\u001b[38;5;124m\"\u001b[39m\u001b[38;5;124mInvalid divider value\u001b[39m\u001b[38;5;124m\"\u001b[39m)\n\u001b[1;32m      8\u001b[0m ve\u001b[38;5;241m.\u001b[39madd_note(\u001b[38;5;124m\"\u001b[39m\u001b[38;5;124mMake sure divider is not zero\u001b[39m\u001b[38;5;124m\"\u001b[39m)\n\u001b[0;32m----> 9\u001b[0m \u001b[38;5;28;01mraise\u001b[39;00m ve\n",
      "\u001b[0;31mValueError\u001b[0m: Invalid divider value",
      "\u001b[0mMake sure divider is not zero"
     ]
    }
   ],
   "source": [
    "import math\n",
    "def do_division(x, y):\n",
    "    try:\n",
    "        return x/y\n",
    "    except ZeroDivisionError as e:\n",
    "        print(f\"can't divide by zero {e}\")\n",
    "        ve = ValueError(\"Invalid divider value\")\n",
    "        ve.add_note(\"Make sure divider is not zero\")\n",
    "        raise ve\n",
    "\n",
    "def division_function(x, y):\n",
    "    return do_division(x, y)\n",
    "\n",
    "x = int(input(\"x = \"))\n",
    "y = int(input(\"y = \"))\n",
    "print(division_function(x, y))"
   ]
  },
  {
   "cell_type": "code",
   "execution_count": 37,
   "metadata": {},
   "outputs": [
    {
     "name": "stdin",
     "output_type": "stream",
     "text": [
      "x =  10\n",
      "y =  2\n"
     ]
    },
    {
     "name": "stdout",
     "output_type": "stream",
     "text": [
      "5.0\n"
     ]
    }
   ],
   "source": [
    "import math\n",
    "def do_division(x, y):\n",
    "    try:\n",
    "        z = x/y\n",
    "    except (ZeroDivisionError, ValuError) as e:\n",
    "        print(f\"can't divide by zero {e}\")\n",
    "        ve = ValueError(\"Invalid divider value\")\n",
    "        ve.add_note(\"Make sure divider is not zero\")\n",
    "        raise ve\n",
    "    else:\n",
    "        return z\n",
    "\n",
    "def division_function(x, y):\n",
    "    return do_division(x, y)\n",
    "\n",
    "x = int(input(\"x = \"))\n",
    "y = int(input(\"y = \"))\n",
    "print(division_function(x, y))"
   ]
  },
  {
   "cell_type": "code",
   "execution_count": 49,
   "metadata": {},
   "outputs": [
    {
     "name": "stdin",
     "output_type": "stream",
     "text": [
      "x =  1\n",
      "y =  0\n"
     ]
    },
    {
     "name": "stdout",
     "output_type": "stream",
     "text": [
      "can't divide by zero division by zero\n",
      "In finally\n"
     ]
    },
    {
     "ename": "ValueError",
     "evalue": "Invalid divider value",
     "output_type": "error",
     "traceback": [
      "\u001b[0;31m---------------------------------------------------------------------------\u001b[0m",
      "\u001b[0;31mZeroDivisionError\u001b[0m                         Traceback (most recent call last)",
      "Cell \u001b[0;32mIn[49], line 4\u001b[0m, in \u001b[0;36mdo_division\u001b[0;34m(x, y)\u001b[0m\n\u001b[1;32m      3\u001b[0m \u001b[38;5;28;01mtry\u001b[39;00m:\n\u001b[0;32m----> 4\u001b[0m     z \u001b[38;5;241m=\u001b[39m \u001b[43mx\u001b[49m\u001b[38;5;241;43m/\u001b[39;49m\u001b[43my\u001b[49m\n\u001b[1;32m      5\u001b[0m     \u001b[38;5;28;01mreturn\u001b[39;00m z\n",
      "\u001b[0;31mZeroDivisionError\u001b[0m: division by zero",
      "\nDuring handling of the above exception, another exception occurred:\n",
      "\u001b[0;31mValueError\u001b[0m                                Traceback (most recent call last)",
      "Cell \u001b[0;32mIn[49], line 22\u001b[0m\n\u001b[1;32m     20\u001b[0m x \u001b[38;5;241m=\u001b[39m \u001b[38;5;28mint\u001b[39m(\u001b[38;5;28minput\u001b[39m(\u001b[38;5;124m\"\u001b[39m\u001b[38;5;124mx = \u001b[39m\u001b[38;5;124m\"\u001b[39m))\n\u001b[1;32m     21\u001b[0m y \u001b[38;5;241m=\u001b[39m \u001b[38;5;28mint\u001b[39m(\u001b[38;5;28minput\u001b[39m(\u001b[38;5;124m\"\u001b[39m\u001b[38;5;124my = \u001b[39m\u001b[38;5;124m\"\u001b[39m))\n\u001b[0;32m---> 22\u001b[0m \u001b[38;5;28mprint\u001b[39m(\u001b[43mdivision_function\u001b[49m\u001b[43m(\u001b[49m\u001b[43mx\u001b[49m\u001b[43m,\u001b[49m\u001b[43m \u001b[49m\u001b[43my\u001b[49m\u001b[43m)\u001b[49m)\n",
      "Cell \u001b[0;32mIn[49], line 18\u001b[0m, in \u001b[0;36mdivision_function\u001b[0;34m(x, y)\u001b[0m\n\u001b[1;32m     17\u001b[0m \u001b[38;5;28;01mdef\u001b[39;00m \u001b[38;5;21mdivision_function\u001b[39m(x, y):\n\u001b[0;32m---> 18\u001b[0m     \u001b[38;5;28;01mreturn\u001b[39;00m \u001b[43mdo_division\u001b[49m\u001b[43m(\u001b[49m\u001b[43mx\u001b[49m\u001b[43m,\u001b[49m\u001b[43m \u001b[49m\u001b[43my\u001b[49m\u001b[43m)\u001b[49m\n",
      "Cell \u001b[0;32mIn[49], line 10\u001b[0m, in \u001b[0;36mdo_division\u001b[0;34m(x, y)\u001b[0m\n\u001b[1;32m      8\u001b[0m     ve \u001b[38;5;241m=\u001b[39m \u001b[38;5;167;01mValueError\u001b[39;00m(\u001b[38;5;124m\"\u001b[39m\u001b[38;5;124mInvalid divider value\u001b[39m\u001b[38;5;124m\"\u001b[39m)\n\u001b[1;32m      9\u001b[0m     ve\u001b[38;5;241m.\u001b[39madd_note(\u001b[38;5;124m\"\u001b[39m\u001b[38;5;124mMake sure divider is not zero\u001b[39m\u001b[38;5;124m\"\u001b[39m)\n\u001b[0;32m---> 10\u001b[0m     \u001b[38;5;28;01mraise\u001b[39;00m ve\n\u001b[1;32m     11\u001b[0m \u001b[38;5;28;01mexcept\u001b[39;00m \u001b[38;5;167;01mArithmeticError\u001b[39;00m \u001b[38;5;28;01mas\u001b[39;00m e:\n\u001b[1;32m     12\u001b[0m     \u001b[38;5;28mprint\u001b[39m(\u001b[38;5;124mf\u001b[39m\u001b[38;5;124m\"\u001b[39m\u001b[38;5;124mgot ArithmeticError \u001b[39m\u001b[38;5;132;01m{\u001b[39;00me\u001b[38;5;132;01m}\u001b[39;00m\u001b[38;5;124m\"\u001b[39m)\n",
      "\u001b[0;31mValueError\u001b[0m: Invalid divider value",
      "\u001b[0mMake sure divider is not zero"
     ]
    }
   ],
   "source": [
    "import math\n",
    "def do_division(x, y):\n",
    "    try:\n",
    "        z = x/y\n",
    "        return z\n",
    "    except ZeroDivisionError as e:\n",
    "        print(f\"can't divide by zero {e}\")\n",
    "        ve = ValueError(\"Invalid divider value\")\n",
    "        ve.add_note(\"Make sure divider is not zero\")\n",
    "        raise ve\n",
    "    except ArithmeticError as e:\n",
    "        print(f\"got ArithmeticError {e}\")\n",
    "        raise\n",
    "    finally:\n",
    "        print(\"In finally\")\n",
    "\n",
    "def division_function(x, y):\n",
    "    return do_division(x, y)\n",
    "\n",
    "x = int(input(\"x = \"))\n",
    "y = int(input(\"y = \"))\n",
    "print(division_function(x, y))"
   ]
  },
  {
   "cell_type": "code",
   "execution_count": 53,
   "metadata": {},
   "outputs": [
    {
     "name": "stderr",
     "output_type": "stream",
     "text": [
      "  + Exception Group Traceback (most recent call last):\n",
      "  |   File \"/Users/arvind/.pyenv/versions/3.11.1/lib/python3.11/site-packages/IPython/core/interactiveshell.py\", line 3553, in run_code\n",
      "  |     exec(code_obj, self.user_global_ns, self.user_ns)\n",
      "  |   File \"/var/folders/zj/6nlx3sqn5vq4bxhflrb5zl5m0000gn/T/ipykernel_97695/486715227.py\", line 16, in <module>\n",
      "  |     sum_list(ls)\n",
      "  |   File \"/var/folders/zj/6nlx3sqn5vq4bxhflrb5zl5m0000gn/T/ipykernel_97695/486715227.py\", line 12, in sum_list\n",
      "  |     raise ExceptionGroup('sum errors', execs)\n",
      "  | ExceptionGroup: sum errors (2 sub-exceptions)\n",
      "  +-+---------------- 1 ----------------\n",
      "    | Traceback (most recent call last):\n",
      "    |   File \"/var/folders/zj/6nlx3sqn5vq4bxhflrb5zl5m0000gn/T/ipykernel_97695/486715227.py\", line 7, in sum_list\n",
      "    |     sum += value\n",
      "    | TypeError: unsupported operand type(s) for +=: 'int' and 'str'\n",
      "    | Error at index 2\n",
      "    +---------------- 2 ----------------\n",
      "    | Traceback (most recent call last):\n",
      "    |   File \"/var/folders/zj/6nlx3sqn5vq4bxhflrb5zl5m0000gn/T/ipykernel_97695/486715227.py\", line 7, in sum_list\n",
      "    |     sum += value\n",
      "    | TypeError: unsupported operand type(s) for +=: 'int' and 'str'\n",
      "    | Error at index 4\n",
      "    +------------------------------------\n"
     ]
    }
   ],
   "source": [
    "import math\n",
    "def sum_list(ls):\n",
    "    execs = []\n",
    "    sum = 0\n",
    "    for i, value in enumerate(ls):\n",
    "        try:\n",
    "            sum += value\n",
    "        except Exception as e:\n",
    "            e.add_note(f\"Error at index {i}\")\n",
    "            execs.append(e)\n",
    "    if execs:\n",
    "        raise ExceptionGroup('sum errors', execs)\n",
    "    return sum\n",
    "\n",
    "ls = [1,3, 'trwe', 56, '84', True]\n",
    "sum_list(ls)"
   ]
  }
 ],
 "metadata": {
  "kernelspec": {
   "display_name": "Python 3 (ipykernel)",
   "language": "python",
   "name": "python3"
  },
  "language_info": {
   "codemirror_mode": {
    "name": "ipython",
    "version": 3
   },
   "file_extension": ".py",
   "mimetype": "text/x-python",
   "name": "python",
   "nbconvert_exporter": "python",
   "pygments_lexer": "ipython3",
   "version": "3.11.1"
  },
  "toc-autonumbering": true,
  "toc-showcode": false
 },
 "nbformat": 4,
 "nbformat_minor": 4
}
